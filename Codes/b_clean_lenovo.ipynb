{
 "cells": [
  {
   "cell_type": "code",
   "execution_count": 1,
   "metadata": {
    "collapsed": true,
    "nbpresent": {
     "id": "f1b90069-bc88-4118-84f0-55b47a08cc0e"
    }
   },
   "outputs": [],
   "source": [
    "import numpy as np\n",
    "import pandas as pd \n",
    "import matplotlib.pyplot as plt\n",
    "import seaborn as sns\n",
    "%matplotlib inline"
   ]
  },
  {
   "cell_type": "code",
   "execution_count": 2,
   "metadata": {
    "collapsed": true,
    "nbpresent": {
     "id": "01a1ca13-fc28-4af0-a17b-087716f5c254"
    },
    "scrolled": false
   },
   "outputs": [],
   "source": [
    "# df = pd.read_csv('./msbd-project-data1/b/a.csv',error_bad_lines=False,sep=',', header=None)\n",
    "lines = []\n",
    "with open('./msbd-project-data1/b/a.csv') as f:\n",
    "    for line in f:\n",
    "        l = line.split(',')\n",
    "        l[7:-4]=[','.join(l[7:-4])]\n",
    "        lines.append(l)\n",
    "df = pd.DataFrame(lines,columns = ['id','uid','nicename','marks','caseid','engid','engineer','content','type','is_flag','send_time','create_time'])"
   ]
  },
  {
   "cell_type": "code",
   "execution_count": 12,
   "metadata": {},
   "outputs": [
    {
     "name": "stdout",
     "output_type": "stream",
     "text": [
      "id                                   367642\n",
      "uid            oLHCTjgnvzlBNwRP0yA2r-iJvkFs\n",
      "nicename                                 张阳\n",
      "marks                                   100\n",
      "caseid                              1100697\n",
      "engid                                 65191\n",
      "engineer                               张源嘉顿\n",
      "content          不建议呢。因为不确定这些文件中是否有其他软件的文件呢\n",
      "type                                    100\n",
      "is_flag                                 200\n",
      "send_time           2016-03-17 13:20:17.000\n",
      "create_time       2016-03-17 13:20:17.000\\n\n",
      "Name: 3, dtype: object\n"
     ]
    }
   ],
   "source": [
    "import pprint\n",
    "pprint.pprint(df.iloc[3])\n"
   ]
  },
  {
   "cell_type": "code",
   "execution_count": 3,
   "metadata": {
    "scrolled": false
   },
   "outputs": [
    {
     "data": {
      "text/html": [
       "<div>\n",
       "<style scoped>\n",
       "    .dataframe tbody tr th:only-of-type {\n",
       "        vertical-align: middle;\n",
       "    }\n",
       "\n",
       "    .dataframe tbody tr th {\n",
       "        vertical-align: top;\n",
       "    }\n",
       "\n",
       "    .dataframe thead th {\n",
       "        text-align: right;\n",
       "    }\n",
       "</style>\n",
       "<table border=\"1\" class=\"dataframe\">\n",
       "  <thead>\n",
       "    <tr style=\"text-align: right;\">\n",
       "      <th></th>\n",
       "      <th>id</th>\n",
       "      <th>uid</th>\n",
       "      <th>nicename</th>\n",
       "      <th>marks</th>\n",
       "      <th>caseid</th>\n",
       "      <th>engid</th>\n",
       "      <th>engineer</th>\n",
       "      <th>content</th>\n",
       "      <th>type</th>\n",
       "      <th>is_flag</th>\n",
       "      <th>send_time</th>\n",
       "      <th>create_time</th>\n",
       "    </tr>\n",
       "  </thead>\n",
       "  <tbody>\n",
       "    <tr>\n",
       "      <th>0</th>\n",
       "      <td>﻿367639</td>\n",
       "      <td>oLHCTjgnvzlBNwRP0yA2r-iJvkFs</td>\n",
       "      <td>张阳</td>\n",
       "      <td>100</td>\n",
       "      <td>1100697</td>\n",
       "      <td>65191</td>\n",
       "      <td>张源嘉顿</td>\n",
       "      <td>如果也没有的话。这个确实没有办法了。我个人建议您重装一遍这个软件看看是否还是一样卸载程序里也没有呢</td>\n",
       "      <td>100</td>\n",
       "      <td>200</td>\n",
       "      <td>2016-03-17 13:18:29.000</td>\n",
       "      <td>2016-03-17 13:18:29.000\\n</td>\n",
       "    </tr>\n",
       "    <tr>\n",
       "      <th>1</th>\n",
       "      <td>367640</td>\n",
       "      <td>oLHCTjgnvzlBNwRP0yA2r-iJvkFs</td>\n",
       "      <td>张阳</td>\n",
       "      <td>100</td>\n",
       "      <td>1100697</td>\n",
       "      <td>65191</td>\n",
       "      <td>张源嘉顿</td>\n",
       "      <td>嗯</td>\n",
       "      <td>100</td>\n",
       "      <td>100</td>\n",
       "      <td>2016-03-17 13:19:09.000</td>\n",
       "      <td>2016-03-17 13:19:10.000\\n</td>\n",
       "    </tr>\n",
       "    <tr>\n",
       "      <th>2</th>\n",
       "      <td>367641</td>\n",
       "      <td>oLHCTjgnvzlBNwRP0yA2r-iJvkFs</td>\n",
       "      <td>张阳</td>\n",
       "      <td>100</td>\n",
       "      <td>1100697</td>\n",
       "      <td>65191</td>\n",
       "      <td>张源嘉顿</td>\n",
       "      <td>我能直接删掉这些文件吗？</td>\n",
       "      <td>100</td>\n",
       "      <td>100</td>\n",
       "      <td>2016-03-17 13:19:20.000</td>\n",
       "      <td>2016-03-17 13:19:20.000\\n</td>\n",
       "    </tr>\n",
       "    <tr>\n",
       "      <th>3</th>\n",
       "      <td>367642</td>\n",
       "      <td>oLHCTjgnvzlBNwRP0yA2r-iJvkFs</td>\n",
       "      <td>张阳</td>\n",
       "      <td>100</td>\n",
       "      <td>1100697</td>\n",
       "      <td>65191</td>\n",
       "      <td>张源嘉顿</td>\n",
       "      <td>不建议呢。因为不确定这些文件中是否有其他软件的文件呢</td>\n",
       "      <td>100</td>\n",
       "      <td>200</td>\n",
       "      <td>2016-03-17 13:20:17.000</td>\n",
       "      <td>2016-03-17 13:20:17.000\\n</td>\n",
       "    </tr>\n",
       "    <tr>\n",
       "      <th>4</th>\n",
       "      <td>367643</td>\n",
       "      <td>oLHCTjgnvzlBNwRP0yA2r-iJvkFs</td>\n",
       "      <td>张阳</td>\n",
       "      <td>100</td>\n",
       "      <td>1100697</td>\n",
       "      <td>65191</td>\n",
       "      <td>张源嘉顿</td>\n",
       "      <td>嗯</td>\n",
       "      <td>100</td>\n",
       "      <td>100</td>\n",
       "      <td>2016-03-17 13:20:43.000</td>\n",
       "      <td>2016-03-17 13:20:43.000\\n</td>\n",
       "    </tr>\n",
       "    <tr>\n",
       "      <th>5</th>\n",
       "      <td>367644</td>\n",
       "      <td>oLHCTjtYvhVQSaqjZv7nEjOPOrcc</td>\n",
       "      <td>A.向阳</td>\n",
       "      <td>100</td>\n",
       "      <td>1100710</td>\n",
       "      <td>65358</td>\n",
       "      <td>胡尚伟</td>\n",
       "      <td>连接上了</td>\n",
       "      <td>100</td>\n",
       "      <td>100</td>\n",
       "      <td>2016-03-17 13:21:31.000</td>\n",
       "      <td>2016-03-17 13:21:31.000\\n</td>\n",
       "    </tr>\n",
       "    <tr>\n",
       "      <th>6</th>\n",
       "      <td>367645</td>\n",
       "      <td>oLHCTjtYvhVQSaqjZv7nEjOPOrcc</td>\n",
       "      <td>A.向阳</td>\n",
       "      <td>100</td>\n",
       "      <td>1100710</td>\n",
       "      <td>65358</td>\n",
       "      <td>胡尚伟</td>\n",
       "      <td>好的，使用看看会断么</td>\n",
       "      <td>100</td>\n",
       "      <td>200</td>\n",
       "      <td>2016-03-17 13:22:07.000</td>\n",
       "      <td>2016-03-17 13:22:07.000\\n</td>\n",
       "    </tr>\n",
       "    <tr>\n",
       "      <th>7</th>\n",
       "      <td>367646</td>\n",
       "      <td>oLHCTjtYvhVQSaqjZv7nEjOPOrcc</td>\n",
       "      <td>A.向阳</td>\n",
       "      <td>100</td>\n",
       "      <td>1100710</td>\n",
       "      <td>65358</td>\n",
       "      <td>胡尚伟</td>\n",
       "      <td>它只是有时自动掉，以后看看怎么样</td>\n",
       "      <td>100</td>\n",
       "      <td>100</td>\n",
       "      <td>2016-03-17 13:22:09.000</td>\n",
       "      <td>2016-03-17 13:22:09.000\\n</td>\n",
       "    </tr>\n",
       "    <tr>\n",
       "      <th>8</th>\n",
       "      <td>367647</td>\n",
       "      <td>oLHCTjtYvhVQSaqjZv7nEjOPOrcc</td>\n",
       "      <td>A.向阳</td>\n",
       "      <td>100</td>\n",
       "      <td>1100710</td>\n",
       "      <td>65358</td>\n",
       "      <td>胡尚伟</td>\n",
       "      <td>这个是您无线驱动：http://driverdl.lenovo.com.cn/lenovo/...</td>\n",
       "      <td>100</td>\n",
       "      <td>200</td>\n",
       "      <td>2016-03-17 13:22:40.000</td>\n",
       "      <td>2016-03-17 13:22:40.000\\n</td>\n",
       "    </tr>\n",
       "    <tr>\n",
       "      <th>9</th>\n",
       "      <td>367649</td>\n",
       "      <td>oLHCTjtYvhVQSaqjZv7nEjOPOrcc</td>\n",
       "      <td>A.向阳</td>\n",
       "      <td>100</td>\n",
       "      <td>1100710</td>\n",
       "      <td>65358</td>\n",
       "      <td>胡尚伟</td>\n",
       "      <td>要是问题还是出现您可以安装这个试试</td>\n",
       "      <td>100</td>\n",
       "      <td>200</td>\n",
       "      <td>2016-03-17 13:22:49.000</td>\n",
       "      <td>2016-03-17 13:22:49.000\\n</td>\n",
       "    </tr>\n",
       "  </tbody>\n",
       "</table>\n",
       "</div>"
      ],
      "text/plain": [
       "        id                           uid nicename marks   caseid  engid  \\\n",
       "0  ﻿367639  oLHCTjgnvzlBNwRP0yA2r-iJvkFs       张阳   100  1100697  65191   \n",
       "1   367640  oLHCTjgnvzlBNwRP0yA2r-iJvkFs       张阳   100  1100697  65191   \n",
       "2   367641  oLHCTjgnvzlBNwRP0yA2r-iJvkFs       张阳   100  1100697  65191   \n",
       "3   367642  oLHCTjgnvzlBNwRP0yA2r-iJvkFs       张阳   100  1100697  65191   \n",
       "4   367643  oLHCTjgnvzlBNwRP0yA2r-iJvkFs       张阳   100  1100697  65191   \n",
       "5   367644  oLHCTjtYvhVQSaqjZv7nEjOPOrcc     A.向阳   100  1100710  65358   \n",
       "6   367645  oLHCTjtYvhVQSaqjZv7nEjOPOrcc     A.向阳   100  1100710  65358   \n",
       "7   367646  oLHCTjtYvhVQSaqjZv7nEjOPOrcc     A.向阳   100  1100710  65358   \n",
       "8   367647  oLHCTjtYvhVQSaqjZv7nEjOPOrcc     A.向阳   100  1100710  65358   \n",
       "9   367649  oLHCTjtYvhVQSaqjZv7nEjOPOrcc     A.向阳   100  1100710  65358   \n",
       "\n",
       "  engineer                                            content type is_flag  \\\n",
       "0     张源嘉顿  如果也没有的话。这个确实没有办法了。我个人建议您重装一遍这个软件看看是否还是一样卸载程序里也没有呢  100     200   \n",
       "1     张源嘉顿                                                  嗯  100     100   \n",
       "2     张源嘉顿                                       我能直接删掉这些文件吗？  100     100   \n",
       "3     张源嘉顿                         不建议呢。因为不确定这些文件中是否有其他软件的文件呢  100     200   \n",
       "4     张源嘉顿                                                  嗯  100     100   \n",
       "5      胡尚伟                                               连接上了  100     100   \n",
       "6      胡尚伟                                         好的，使用看看会断么  100     200   \n",
       "7      胡尚伟                                   它只是有时自动掉，以后看看怎么样  100     100   \n",
       "8      胡尚伟  这个是您无线驱动：http://driverdl.lenovo.com.cn/lenovo/...  100     200   \n",
       "9      胡尚伟                                  要是问题还是出现您可以安装这个试试  100     200   \n",
       "\n",
       "                 send_time                create_time  \n",
       "0  2016-03-17 13:18:29.000  2016-03-17 13:18:29.000\\n  \n",
       "1  2016-03-17 13:19:09.000  2016-03-17 13:19:10.000\\n  \n",
       "2  2016-03-17 13:19:20.000  2016-03-17 13:19:20.000\\n  \n",
       "3  2016-03-17 13:20:17.000  2016-03-17 13:20:17.000\\n  \n",
       "4  2016-03-17 13:20:43.000  2016-03-17 13:20:43.000\\n  \n",
       "5  2016-03-17 13:21:31.000  2016-03-17 13:21:31.000\\n  \n",
       "6  2016-03-17 13:22:07.000  2016-03-17 13:22:07.000\\n  \n",
       "7  2016-03-17 13:22:09.000  2016-03-17 13:22:09.000\\n  \n",
       "8  2016-03-17 13:22:40.000  2016-03-17 13:22:40.000\\n  \n",
       "9  2016-03-17 13:22:49.000  2016-03-17 13:22:49.000\\n  "
      ]
     },
     "execution_count": 3,
     "metadata": {},
     "output_type": "execute_result"
    }
   ],
   "source": [
    "df.head(10)"
   ]
  },
  {
   "cell_type": "code",
   "execution_count": 3,
   "metadata": {
    "nbpresent": {
     "id": "0895c02d-3332-442b-a59d-4779651256e0"
    }
   },
   "outputs": [
    {
     "data": {
      "text/plain": [
       "[0, 0, 95, 95, 95, 95, 203, 203, 203, 311, 312, 312]"
      ]
     },
     "execution_count": 3,
     "metadata": {},
     "output_type": "execute_result"
    }
   ],
   "source": [
    "list(df.shape[0]-df.count())"
   ]
  },
  {
   "cell_type": "code",
   "execution_count": 4,
   "metadata": {},
   "outputs": [
    {
     "name": "stdout",
     "output_type": "stream",
     "text": [
      "Index(['id', 'uid', 'nicename', 'marks', 'caseid', 'engid', 'engineer',\n",
      "       'content', 'type', 'is_flag', 'send_time', 'create_time'],\n",
      "      dtype='object')\n"
     ]
    }
   ],
   "source": [
    "df = df.dropna(how='any')\n",
    "print(df.columns)"
   ]
  },
  {
   "cell_type": "markdown",
   "metadata": {},
   "source": [
    "### number of users"
   ]
  },
  {
   "cell_type": "code",
   "execution_count": 5,
   "metadata": {},
   "outputs": [
    {
     "data": {
      "text/plain": [
       "(1371,)"
      ]
     },
     "execution_count": 5,
     "metadata": {},
     "output_type": "execute_result"
    }
   ],
   "source": [
    "df.uid.unique().shape"
   ]
  },
  {
   "cell_type": "code",
   "execution_count": 19,
   "metadata": {},
   "outputs": [
    {
     "data": {
      "text/plain": [
       "<matplotlib.axes._subplots.AxesSubplot at 0x1a14b5cb38>"
      ]
     },
     "execution_count": 19,
     "metadata": {},
     "output_type": "execute_result"
    },
    {
     "data": {
      "image/png": "[encoded data removed]",
      "text/plain": [
       "<matplotlib.figure.Figure at 0x1a14afab70>"
      ]
     },
     "metadata": {},
     "output_type": "display_data"
    }
   ],
   "source": [
    "sns.distplot(df.groupby('uid').count().content)"
   ]
  },
  {
   "cell_type": "code",
   "execution_count": 22,
   "metadata": {},
   "outputs": [
    {
     "data": {
      "text/plain": [
       "<matplotlib.axes._subplots.AxesSubplot at 0x1a1502f6a0>"
      ]
     },
     "execution_count": 22,
     "metadata": {},
     "output_type": "execute_result"
    },
    {
     "data": {
      "image/png": "[encoded data removed]",
      "text/plain": [
       "<matplotlib.figure.Figure at 0x1a150bba58>"
      ]
     },
     "metadata": {},
     "output_type": "display_data"
    }
   ],
   "source": [
    "sns.distplot(df.groupby('engid').count().content)"
   ]
  }
 ],
 "metadata": {
  "hide_input": false,
  "kernelspec": {
   "display_name": "Python [conda env:py3]",
   "language": "python",
   "name": "conda-env-py3-py"
  },
  "language_info": {
   "codemirror_mode": {
    "name": "ipython",
    "version": 3
   },
   "file_extension": ".py",
   "mimetype": "text/x-python",
   "name": "python",
   "nbconvert_exporter": "python",
   "pygments_lexer": "ipython3",
   "version": "3.6.4"
  },
  "varInspector": {
   "cols": {
    "lenName": 16,
    "lenType": 16,
    "lenVar": 40
   },
   "kernels_config": {
    "python": {
     "delete_cmd_postfix": "",
     "delete_cmd_prefix": "del ",
     "library": "var_list.py",
     "varRefreshCmd": "print(var_dic_list())"
    },
    "r": {
     "delete_cmd_postfix": ") ",
     "delete_cmd_prefix": "rm(",
     "library": "var_list.r",
     "varRefreshCmd": "cat(var_dic_list()) "
    }
   },
   "types_to_exclude": [
    "module",
    "function",
    "builtin_function_or_method",
    "instance",
    "_Feature"
   ],
   "window_display": false
  }
 },
 "nbformat": 4,
 "nbformat_minor": 2
}
