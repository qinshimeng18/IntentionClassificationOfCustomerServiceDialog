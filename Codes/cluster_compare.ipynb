{
 "cells": [
  {
   "cell_type": "code",
   "execution_count": 1,
   "metadata": {
    "collapsed": true
   },
   "outputs": [],
   "source": [
    "import pandas as pd\n",
    "import matplotlib.pyplot as plt\n",
    "import seaborn as sns\n",
    "import numpy as np\n",
    "import gensim,jieba,os\n"
   ]
  },
  {
   "cell_type": "code",
   "execution_count": 2,
   "metadata": {
    "scrolled": true
   },
   "outputs": [
    {
     "data": {
      "text/html": [
       "<div>\n",
       "<style scoped>\n",
       "    .dataframe tbody tr th:only-of-type {\n",
       "        vertical-align: middle;\n",
       "    }\n",
       "\n",
       "    .dataframe tbody tr th {\n",
       "        vertical-align: top;\n",
       "    }\n",
       "\n",
       "    .dataframe thead th {\n",
       "        text-align: right;\n",
       "    }\n",
       "</style>\n",
       "<table border=\"1\" class=\"dataframe\">\n",
       "  <thead>\n",
       "    <tr style=\"text-align: right;\">\n",
       "      <th></th>\n",
       "      <th>sessionid</th>\n",
       "      <th>request</th>\n",
       "      <th>response</th>\n",
       "    </tr>\n",
       "  </thead>\n",
       "  <tbody>\n",
       "    <tr>\n",
       "      <th>0</th>\n",
       "      <td>13410000258T16081911402229APP</td>\n",
       "      <td>实名制了怎么还不能打电话？</td>\n",
       "      <td>请问是本机吗？我帮您开机，请稍等哈</td>\n",
       "    </tr>\n",
       "    <tr>\n",
       "      <th>1</th>\n",
       "      <td>13410000422T16082318212113APP</td>\n",
       "      <td>查询我现在的套餐</td>\n",
       "      <td>，您改了38元4G飞享套餐，9-13号生效哦，还在线吗，还有其他可以帮到您吗？</td>\n",
       "    </tr>\n",
       "  </tbody>\n",
       "</table>\n",
       "</div>"
      ],
      "text/plain": [
       "                       sessionid        request  \\\n",
       "0  13410000258T16081911402229APP  实名制了怎么还不能打电话？   \n",
       "1  13410000422T16082318212113APP       查询我现在的套餐   \n",
       "\n",
       "                                  response  \n",
       "0                        请问是本机吗？我帮您开机，请稍等哈  \n",
       "1  ，您改了38元4G飞享套餐，9-13号生效哦，还在线吗，还有其他可以帮到您吗？  "
      ]
     },
     "execution_count": 2,
     "metadata": {},
     "output_type": "execute_result"
    }
   ],
   "source": [
    "df = pd.read_csv('cleandemo8.csv')\n",
    "# del df['Unnamed: 0']\n",
    "df.head(2)"
   ]
  },
  {
   "cell_type": "markdown",
   "metadata": {},
   "source": [
    "for sentences:\n",
    "    sentence.cut()\n",
    "    looking_up-> vec\n",
    "kmeans or lda\n",
    "GRU"
   ]
  },
  {
   "cell_type": "markdown",
   "metadata": {},
   "source": [
    "# 读入词向量，对句子进行表示"
   ]
  },
  {
   "cell_type": "code",
   "execution_count": 3,
   "metadata": {
    "collapsed": true
   },
   "outputs": [],
   "source": [
    "from gensim.models import Word2Vec\n",
    "# w = Word2Vec.load('./mymodel_pub')\n",
    "# w = gensim.models.KeyedVectors.load_word2vec_format('./news_12g_baidubaike_20g_novel_90g_embedding_64.bin',binary=True)\n",
    "w =  Word2Vec.load('./self_train_word2vec')"
   ]
  },
  {
   "cell_type": "code",
   "execution_count": 4,
   "metadata": {
    "scrolled": false
   },
   "outputs": [
    {
     "name": "stderr",
     "output_type": "stream",
     "text": [
      "/Users/lucas/anaconda/envs/py3/lib/python3.6/site-packages/ipykernel/__main__.py:2: DeprecationWarning: Call to deprecated `__getitem__` (Method will be removed in 4.0.0, use self.wv.__getitem__() instead).\n",
      "  from ipykernel import kernelapp as app\n",
      "Building prefix dict from the default dictionary ...\n",
      "Loading model from cache /var/folders/ny/f3f_tg0j5pl8mzvdvjd8258c0000gn/T/jieba.cache\n",
      "Loading model cost 0.755 seconds.\n",
      "Prefix dict has been built succesfully.\n",
      "/Users/lucas/anaconda/envs/py3/lib/python3.6/site-packages/ipykernel/__main__.py:5: DeprecationWarning: Call to deprecated `__contains__` (Method will be removed in 4.0.0, use self.wv.__contains__() instead).\n",
      "/Users/lucas/anaconda/envs/py3/lib/python3.6/site-packages/ipykernel/__main__.py:5: DeprecationWarning: Call to deprecated `__getitem__` (Method will be removed in 4.0.0, use self.wv.__getitem__() instead).\n"
     ]
    }
   ],
   "source": [
    "sens_vec = []\n",
    "black = np.array([0]*w['话费'].shape[0])\n",
    "for sen in df.response:\n",
    "    sen = [vec for vec in jieba.cut(sen)]\n",
    "    sen_array = [w[i] if i in w else black for i in sen]\n",
    "    sens_vec.append(sum(sen_array)/float(len(sen_array)))\n",
    "    \n"
   ]
  },
  {
   "cell_type": "markdown",
   "metadata": {},
   "source": [
    "# 聚类方法比较"
   ]
  },
  {
   "cell_type": "markdown",
   "metadata": {},
   "source": [
    "### 降维，对聚类更友好"
   ]
  },
  {
   "cell_type": "code",
   "execution_count": 5,
   "metadata": {},
   "outputs": [],
   "source": [
    "sens_vec\n",
    "from sklearn.decomposition import PCA\n",
    "pca = PCA(n_components=40)\n",
    "sens_vec = pca.fit_transform(sens_vec)"
   ]
  },
  {
   "cell_type": "code",
   "execution_count": 6,
   "metadata": {},
   "outputs": [
    {
     "data": {
      "text/plain": [
       "0.9961375133455086"
      ]
     },
     "execution_count": 6,
     "metadata": {},
     "output_type": "execute_result"
    }
   ],
   "source": [
    "sum(pca.explained_variance_ratio_)"
   ]
  },
  {
   "cell_type": "code",
   "execution_count": 7,
   "metadata": {
    "scrolled": false
   },
   "outputs": [
    {
     "data": {
      "text/plain": [
       "4    1509\n",
       "1    1282\n",
       "5     951\n",
       "6     673\n",
       "0     619\n",
       "3     603\n",
       "2     495\n",
       "Name: 0, dtype: int64"
      ]
     },
     "execution_count": 7,
     "metadata": {},
     "output_type": "execute_result"
    }
   ],
   "source": [
    "from sklearn.cluster import KMeans,DBSCAN,AgglomerativeClustering\n",
    "# kmeans\n",
    "k = 7\n",
    "clf = KMeans(n_clusters=k) #设定k，这里就是调用KMeans算法 \n",
    "s = clf.fit(sens_vec) #加载数据集合 \n",
    "\n",
    "# dbscan\n",
    "# clf = DBSCAN(eps=1.27, min_samples=20)\n",
    "# clf.fit(sens_vec)\n",
    "\n",
    "# AgglomerativeClustering\n",
    "# clf = AgglomerativeClustering(n_clusters=7)\n",
    "# clf.fit(sens_vec)\n",
    "\n",
    "numSamples = len(sens_vec) \n",
    "centroids = clf.labels_\n",
    "# print(centroids) #显示中心点\n",
    "# print(clf.inertia_)  #显示聚类效果\n",
    "# print(clf.cluster_centers_) #簇的中心向量\n",
    "pd.DataFrame(list(clf.labels_))[0].value_counts()"
   ]
  },
  {
   "cell_type": "code",
   "execution_count": 8,
   "metadata": {},
   "outputs": [
    {
     "name": "stdout",
     "output_type": "stream",
     "text": [
      "(6132, 4)\n"
     ]
    },
    {
     "data": {
      "text/html": [
       "<div>\n",
       "<style scoped>\n",
       "    .dataframe tbody tr th:only-of-type {\n",
       "        vertical-align: middle;\n",
       "    }\n",
       "\n",
       "    .dataframe tbody tr th {\n",
       "        vertical-align: top;\n",
       "    }\n",
       "\n",
       "    .dataframe thead th {\n",
       "        text-align: right;\n",
       "    }\n",
       "</style>\n",
       "<table border=\"1\" class=\"dataframe\">\n",
       "  <thead>\n",
       "    <tr style=\"text-align: right;\">\n",
       "      <th></th>\n",
       "      <th>sessionid</th>\n",
       "      <th>request</th>\n",
       "      <th>response</th>\n",
       "      <th>cluster</th>\n",
       "    </tr>\n",
       "  </thead>\n",
       "  <tbody>\n",
       "    <tr>\n",
       "      <th>0</th>\n",
       "      <td>13410000258T16081911402229APP</td>\n",
       "      <td>实名制了怎么还不能打电话？</td>\n",
       "      <td>请问是本机吗？我帮您开机，请稍等哈</td>\n",
       "      <td>5</td>\n",
       "    </tr>\n",
       "    <tr>\n",
       "      <th>1</th>\n",
       "      <td>13410000422T16082318212113APP</td>\n",
       "      <td>查询我现在的套餐</td>\n",
       "      <td>，您改了38元4G飞享套餐，9-13号生效哦，还在线吗，还有其他可以帮到您吗？</td>\n",
       "      <td>4</td>\n",
       "    </tr>\n",
       "    <tr>\n",
       "      <th>2</th>\n",
       "      <td>13410001228T160803125048</td>\n",
       "      <td>我前天办的飞享套餐，我要取消38元的</td>\n",
       "      <td>，请问是在什么时候办理的呢</td>\n",
       "      <td>5</td>\n",
       "    </tr>\n",
       "    <tr>\n",
       "      <th>3</th>\n",
       "      <td>13410001228T160803125048</td>\n",
       "      <td>电话办理的</td>\n",
       "      <td>您是不是之前要求取消了呢？</td>\n",
       "      <td>5</td>\n",
       "    </tr>\n",
       "    <tr>\n",
       "      <th>4</th>\n",
       "      <td>13410001228T160803125048</td>\n",
       "      <td>是的，我要求取消的昨天你们客服打电话来，我没接到</td>\n",
       "      <td>显示订单回退了，就是承诺使用38元套餐2个月的那个订单</td>\n",
       "      <td>2</td>\n",
       "    </tr>\n",
       "  </tbody>\n",
       "</table>\n",
       "</div>"
      ],
      "text/plain": [
       "                       sessionid                   request  \\\n",
       "0  13410000258T16081911402229APP             实名制了怎么还不能打电话？   \n",
       "1  13410000422T16082318212113APP                  查询我现在的套餐   \n",
       "2       13410001228T160803125048        我前天办的飞享套餐，我要取消38元的   \n",
       "3       13410001228T160803125048                     电话办理的   \n",
       "4       13410001228T160803125048  是的，我要求取消的昨天你们客服打电话来，我没接到   \n",
       "\n",
       "                                  response  cluster  \n",
       "0                        请问是本机吗？我帮您开机，请稍等哈        5  \n",
       "1  ，您改了38元4G飞享套餐，9-13号生效哦，还在线吗，还有其他可以帮到您吗？        4  \n",
       "2                           ，请问是在什么时候办理的呢         5  \n",
       "3                           您是不是之前要求取消了呢？         5  \n",
       "4              显示订单回退了，就是承诺使用38元套餐2个月的那个订单        2  "
      ]
     },
     "execution_count": 8,
     "metadata": {},
     "output_type": "execute_result"
    }
   ],
   "source": [
    "df_cluster = pd.concat((df,pd.DataFrame(clf.labels_,columns = ['cluster'])),axis = 1)\n",
    "print(df_cluster.shape)\n",
    "df_cluster.head()"
   ]
  },
  {
   "cell_type": "code",
   "execution_count": 9,
   "metadata": {
    "collapsed": true
   },
   "outputs": [],
   "source": [
    "df_cluster.to_csv('./df_cluster',index=False)"
   ]
  },
  {
   "cell_type": "code",
   "execution_count": 10,
   "metadata": {
    "scrolled": true
   },
   "outputs": [
    {
     "data": {
      "text/html": [
       "<div>\n",
       "<style scoped>\n",
       "    .dataframe tbody tr th:only-of-type {\n",
       "        vertical-align: middle;\n",
       "    }\n",
       "\n",
       "    .dataframe tbody tr th {\n",
       "        vertical-align: top;\n",
       "    }\n",
       "\n",
       "    .dataframe thead th {\n",
       "        text-align: right;\n",
       "    }\n",
       "</style>\n",
       "<table border=\"1\" class=\"dataframe\">\n",
       "  <thead>\n",
       "    <tr style=\"text-align: right;\">\n",
       "      <th></th>\n",
       "      <th>sessionid</th>\n",
       "      <th>request</th>\n",
       "      <th>response</th>\n",
       "      <th>cluster</th>\n",
       "    </tr>\n",
       "  </thead>\n",
       "  <tbody>\n",
       "    <tr>\n",
       "      <th>18</th>\n",
       "      <td>13410002381T16082411455718APP</td>\n",
       "      <td>0元劲享30G流量包</td>\n",
       "      <td>，本机可承诺连续12个月使用88或以上4G套餐不改低，充值后用100元购买流量年包的，每月送...</td>\n",
       "      <td>0</td>\n",
       "    </tr>\n",
       "    <tr>\n",
       "      <th>24</th>\n",
       "      <td>13410002616T16082008352093APP</td>\n",
       "      <td>好的，非常感谢好滴，我给你发短信收费不</td>\n",
       "      <td>已为您成功办理手机流量30元套餐（2016）不用的啊</td>\n",
       "      <td>0</td>\n",
       "    </tr>\n",
       "    <tr>\n",
       "      <th>26</th>\n",
       "      <td>13410006681T160808172432</td>\n",
       "      <td>我想问下4g套餐升级送话费吗</td>\n",
       "      <td>有升级套餐预存话费送话费的活动</td>\n",
       "      <td>0</td>\n",
       "    </tr>\n",
       "    <tr>\n",
       "      <th>27</th>\n",
       "      <td>13410006681T160808172432</td>\n",
       "      <td>我想把套餐升级 现在不是18一个月的吗我想换成38那个</td>\n",
       "      <td>2016年7月1日-8月31日，已实名无合约、合约三个月内到期且无套餐或者升档套餐全球通\\预...</td>\n",
       "      <td>0</td>\n",
       "    </tr>\n",
       "    <tr>\n",
       "      <th>32</th>\n",
       "      <td>13410006941T16081915080041APP</td>\n",
       "      <td>你好，我今天刚充值了100块钱话费，申请办理一年15G的流量赠送</td>\n",
       "      <td>2016年7月1日-8月31日期间，深圳移动受邀客户办理360元流量年包承诺连续12个月使用...</td>\n",
       "      <td>0</td>\n",
       "    </tr>\n",
       "    <tr>\n",
       "      <th>33</th>\n",
       "      <td>13410006941T16081915080041APP</td>\n",
       "      <td>但是怎么刚刚查话费就剩了8块钱我本来一直使用的是58元的套餐，然后你们不是0元申请吗</td>\n",
       "      <td>，这是用80元买价值360元的年包活动，送15个月的流量的</td>\n",
       "      <td>0</td>\n",
       "    </tr>\n",
       "  </tbody>\n",
       "</table>\n",
       "</div>"
      ],
      "text/plain": [
       "                        sessionid                                     request  \\\n",
       "18  13410002381T16082411455718APP                                  0元劲享30G流量包   \n",
       "24  13410002616T16082008352093APP                         好的，非常感谢好滴，我给你发短信收费不   \n",
       "26       13410006681T160808172432                              我想问下4g套餐升级送话费吗   \n",
       "27       13410006681T160808172432                 我想把套餐升级 现在不是18一个月的吗我想换成38那个   \n",
       "32  13410006941T16081915080041APP            你好，我今天刚充值了100块钱话费，申请办理一年15G的流量赠送   \n",
       "33  13410006941T16081915080041APP  但是怎么刚刚查话费就剩了8块钱我本来一直使用的是58元的套餐，然后你们不是0元申请吗   \n",
       "\n",
       "                                             response  cluster  \n",
       "18  ，本机可承诺连续12个月使用88或以上4G套餐不改低，充值后用100元购买流量年包的，每月送...        0  \n",
       "24                         已为您成功办理手机流量30元套餐（2016）不用的啊        0  \n",
       "26                                    有升级套餐预存话费送话费的活动        0  \n",
       "27  2016年7月1日-8月31日，已实名无合约、合约三个月内到期且无套餐或者升档套餐全球通\\预...        0  \n",
       "32  2016年7月1日-8月31日期间，深圳移动受邀客户办理360元流量年包承诺连续12个月使用...        0  \n",
       "33                      ，这是用80元买价值360元的年包活动，送15个月的流量的        0  "
      ]
     },
     "execution_count": 10,
     "metadata": {},
     "output_type": "execute_result"
    }
   ],
   "source": [
    "df_cluster[df_cluster.cluster ==0][:6]"
   ]
  },
  {
   "cell_type": "code",
   "execution_count": 11,
   "metadata": {
    "scrolled": true
   },
   "outputs": [
    {
     "data": {
      "text/html": [
       "<div>\n",
       "<style scoped>\n",
       "    .dataframe tbody tr th:only-of-type {\n",
       "        vertical-align: middle;\n",
       "    }\n",
       "\n",
       "    .dataframe tbody tr th {\n",
       "        vertical-align: top;\n",
       "    }\n",
       "\n",
       "    .dataframe thead th {\n",
       "        text-align: right;\n",
       "    }\n",
       "</style>\n",
       "<table border=\"1\" class=\"dataframe\">\n",
       "  <thead>\n",
       "    <tr style=\"text-align: right;\">\n",
       "      <th></th>\n",
       "      <th>sessionid</th>\n",
       "      <th>request</th>\n",
       "      <th>response</th>\n",
       "    </tr>\n",
       "    <tr>\n",
       "      <th>cluster</th>\n",
       "      <th></th>\n",
       "      <th></th>\n",
       "      <th></th>\n",
       "    </tr>\n",
       "  </thead>\n",
       "  <tbody>\n",
       "    <tr>\n",
       "      <th>0</th>\n",
       "      <td>619</td>\n",
       "      <td>619</td>\n",
       "      <td>619</td>\n",
       "    </tr>\n",
       "    <tr>\n",
       "      <th>1</th>\n",
       "      <td>1282</td>\n",
       "      <td>1282</td>\n",
       "      <td>1282</td>\n",
       "    </tr>\n",
       "    <tr>\n",
       "      <th>2</th>\n",
       "      <td>495</td>\n",
       "      <td>495</td>\n",
       "      <td>495</td>\n",
       "    </tr>\n",
       "    <tr>\n",
       "      <th>3</th>\n",
       "      <td>603</td>\n",
       "      <td>603</td>\n",
       "      <td>603</td>\n",
       "    </tr>\n",
       "    <tr>\n",
       "      <th>4</th>\n",
       "      <td>1509</td>\n",
       "      <td>1509</td>\n",
       "      <td>1509</td>\n",
       "    </tr>\n",
       "    <tr>\n",
       "      <th>5</th>\n",
       "      <td>951</td>\n",
       "      <td>951</td>\n",
       "      <td>951</td>\n",
       "    </tr>\n",
       "    <tr>\n",
       "      <th>6</th>\n",
       "      <td>673</td>\n",
       "      <td>673</td>\n",
       "      <td>673</td>\n",
       "    </tr>\n",
       "  </tbody>\n",
       "</table>\n",
       "</div>"
      ],
      "text/plain": [
       "         sessionid  request  response\n",
       "cluster                              \n",
       "0              619      619       619\n",
       "1             1282     1282      1282\n",
       "2              495      495       495\n",
       "3              603      603       603\n",
       "4             1509     1509      1509\n",
       "5              951      951       951\n",
       "6              673      673       673"
      ]
     },
     "execution_count": 11,
     "metadata": {},
     "output_type": "execute_result"
    }
   ],
   "source": [
    "df_cluster.groupby('cluster').count()"
   ]
  },
  {
   "cell_type": "markdown",
   "metadata": {},
   "source": [
    "# 挑选合适的K"
   ]
  },
  {
   "cell_type": "code",
   "execution_count": 12,
   "metadata": {},
   "outputs": [
    {
     "data": {
      "text/plain": [
       "<matplotlib.figure.Figure at 0x1a1d31e780>"
      ]
     },
     "metadata": {},
     "output_type": "display_data"
    },
    {
     "data": {
      "image/png": "[encoded data removed]",
      "text/plain": [
       "<matplotlib.figure.Figure at 0x1a1d31edd8>"
      ]
     },
     "metadata": {},
     "output_type": "display_data"
    },
    {
     "data": {
      "image/png": "[encoded data removed]",
      "text/plain": [
       "<matplotlib.figure.Figure at 0x1060754a8>"
      ]
     },
     "metadata": {},
     "output_type": "display_data"
    }
   ],
   "source": [
    "from sklearn.cluster import KMeans\n",
    "from sklearn.metrics import silhouette_score\n",
    "import matplotlib.pyplot as plt\n",
    "score = []\n",
    "silhouette = []\n",
    "k=15\n",
    "for i in range(2,k+1):\n",
    "    kmeas = KMeans(n_clusters =i,init=\"random\").fit(sens_vec)\n",
    "    \n",
    "    silhouette.append(silhouette_score(sens_vec, kmeas.labels_, metric='euclidean'))\n",
    "    score.append(kmeas.inertia_)\n",
    "\n",
    "i = plt.figure(1)\n",
    "plt.style.use('bmh')\n",
    "plt.figure(figsize=(8,8))\n",
    "plt.xlabel('K')\n",
    "plt.ylabel('Sum of distances of samples to their closest cluster center')\n",
    "plt.plot(range(2,k+1),score,marker ='s')\n",
    "s=plt.figure(2)\n",
    "plt.style.use('bmh')\n",
    "plt.figure(figsize=(8,8))\n",
    "plt.xlabel('K')\n",
    "plt.ylabel('silhouette_score')\n",
    "plt.plot(range(2,k+1),silhouette, marker = 's')\n",
    "plt.show()\n",
    "\n"
   ]
  },
  {
   "cell_type": "markdown",
   "metadata": {},
   "source": [
    "# 衡量ground truth"
   ]
  },
  {
   "cell_type": "code",
   "execution_count": 13,
   "metadata": {
    "scrolled": false
   },
   "outputs": [
    {
     "name": "stdout",
     "output_type": "stream",
     "text": [
      "(93, 5)\n"
     ]
    },
    {
     "data": {
      "text/html": [
       "<div>\n",
       "<style scoped>\n",
       "    .dataframe tbody tr th:only-of-type {\n",
       "        vertical-align: middle;\n",
       "    }\n",
       "\n",
       "    .dataframe tbody tr th {\n",
       "        vertical-align: top;\n",
       "    }\n",
       "\n",
       "    .dataframe thead th {\n",
       "        text-align: right;\n",
       "    }\n",
       "</style>\n",
       "<table border=\"1\" class=\"dataframe\">\n",
       "  <thead>\n",
       "    <tr style=\"text-align: right;\">\n",
       "      <th></th>\n",
       "      <th>index</th>\n",
       "      <th>sessionid</th>\n",
       "      <th>request</th>\n",
       "      <th>domain</th>\n",
       "      <th>intention</th>\n",
       "    </tr>\n",
       "  </thead>\n",
       "  <tbody>\n",
       "    <tr>\n",
       "      <th>0</th>\n",
       "      <td>227</td>\n",
       "      <td>13410022560T160817102657</td>\n",
       "      <td>你好，能帮我开通国际漫游吗</td>\n",
       "      <td>漫游</td>\n",
       "      <td>漫游办理</td>\n",
       "    </tr>\n",
       "    <tr>\n",
       "      <th>1</th>\n",
       "      <td>516</td>\n",
       "      <td>13410061331T16082619274909APP</td>\n",
       "      <td>所以我的号每个月都要扣多少钱呢</td>\n",
       "      <td>通话</td>\n",
       "      <td>话费查询</td>\n",
       "    </tr>\n",
       "  </tbody>\n",
       "</table>\n",
       "</div>"
      ],
      "text/plain": [
       "   index                      sessionid          request domain intention\n",
       "0    227       13410022560T160817102657    你好，能帮我开通国际漫游吗     漫游      漫游办理\n",
       "1    516  13410061331T16082619274909APP  所以我的号每个月都要扣多少钱呢     通话      话费查询"
      ]
     },
     "execution_count": 13,
     "metadata": {},
     "output_type": "execute_result"
    }
   ],
   "source": [
    "df_labeled = pd.read_csv('./data_labeled_2.csv')\n",
    "print(df_labeled.shape)\n",
    "df_labeled.head(2)"
   ]
  },
  {
   "cell_type": "code",
   "execution_count": 14,
   "metadata": {},
   "outputs": [
    {
     "data": {
      "text/html": [
       "<div>\n",
       "<style scoped>\n",
       "    .dataframe tbody tr th:only-of-type {\n",
       "        vertical-align: middle;\n",
       "    }\n",
       "\n",
       "    .dataframe tbody tr th {\n",
       "        vertical-align: top;\n",
       "    }\n",
       "\n",
       "    .dataframe thead th {\n",
       "        text-align: right;\n",
       "    }\n",
       "</style>\n",
       "<table border=\"1\" class=\"dataframe\">\n",
       "  <thead>\n",
       "    <tr style=\"text-align: right;\">\n",
       "      <th></th>\n",
       "      <th>index</th>\n",
       "      <th>sessionid</th>\n",
       "      <th>request</th>\n",
       "      <th>intention</th>\n",
       "    </tr>\n",
       "    <tr>\n",
       "      <th>domain</th>\n",
       "      <th></th>\n",
       "      <th></th>\n",
       "      <th></th>\n",
       "      <th></th>\n",
       "    </tr>\n",
       "  </thead>\n",
       "  <tbody>\n",
       "    <tr>\n",
       "      <th>业务</th>\n",
       "      <td>3</td>\n",
       "      <td>3</td>\n",
       "      <td>3</td>\n",
       "      <td>3</td>\n",
       "    </tr>\n",
       "    <tr>\n",
       "      <th>套餐</th>\n",
       "      <td>30</td>\n",
       "      <td>30</td>\n",
       "      <td>30</td>\n",
       "      <td>30</td>\n",
       "    </tr>\n",
       "    <tr>\n",
       "      <th>宽带</th>\n",
       "      <td>2</td>\n",
       "      <td>2</td>\n",
       "      <td>2</td>\n",
       "      <td>2</td>\n",
       "    </tr>\n",
       "    <tr>\n",
       "      <th>流量</th>\n",
       "      <td>40</td>\n",
       "      <td>40</td>\n",
       "      <td>40</td>\n",
       "      <td>40</td>\n",
       "    </tr>\n",
       "    <tr>\n",
       "      <th>漫游</th>\n",
       "      <td>3</td>\n",
       "      <td>3</td>\n",
       "      <td>3</td>\n",
       "      <td>3</td>\n",
       "    </tr>\n",
       "    <tr>\n",
       "      <th>积分</th>\n",
       "      <td>2</td>\n",
       "      <td>2</td>\n",
       "      <td>2</td>\n",
       "      <td>2</td>\n",
       "    </tr>\n",
       "    <tr>\n",
       "      <th>通话</th>\n",
       "      <td>13</td>\n",
       "      <td>13</td>\n",
       "      <td>13</td>\n",
       "      <td>13</td>\n",
       "    </tr>\n",
       "  </tbody>\n",
       "</table>\n",
       "</div>"
      ],
      "text/plain": [
       "        index  sessionid  request  intention\n",
       "domain                                      \n",
       "业务          3          3        3          3\n",
       "套餐         30         30       30         30\n",
       "宽带          2          2        2          2\n",
       "流量         40         40       40         40\n",
       "漫游          3          3        3          3\n",
       "积分          2          2        2          2\n",
       "通话         13         13       13         13"
      ]
     },
     "execution_count": 14,
     "metadata": {},
     "output_type": "execute_result"
    }
   ],
   "source": [
    "df_labeled.groupby('domain').count()"
   ]
  },
  {
   "cell_type": "code",
   "execution_count": 15,
   "metadata": {
    "scrolled": false
   },
   "outputs": [
    {
     "name": "stdout",
     "output_type": "stream",
     "text": [
      "(65, 7)\n"
     ]
    },
    {
     "data": {
      "text/html": [
       "<div>\n",
       "<style scoped>\n",
       "    .dataframe tbody tr th:only-of-type {\n",
       "        vertical-align: middle;\n",
       "    }\n",
       "\n",
       "    .dataframe tbody tr th {\n",
       "        vertical-align: top;\n",
       "    }\n",
       "\n",
       "    .dataframe thead th {\n",
       "        text-align: right;\n",
       "    }\n",
       "</style>\n",
       "<table border=\"1\" class=\"dataframe\">\n",
       "  <thead>\n",
       "    <tr style=\"text-align: right;\">\n",
       "      <th></th>\n",
       "      <th>sessionid</th>\n",
       "      <th>request</th>\n",
       "      <th>response</th>\n",
       "      <th>cluster</th>\n",
       "      <th>index</th>\n",
       "      <th>domain</th>\n",
       "      <th>intention</th>\n",
       "    </tr>\n",
       "  </thead>\n",
       "  <tbody>\n",
       "    <tr>\n",
       "      <th>0</th>\n",
       "      <td>13410000422T16082318212113APP</td>\n",
       "      <td>查询我现在的套餐</td>\n",
       "      <td>，您改了38元4G飞享套餐，9-13号生效哦，还在线吗，还有其他可以帮到您吗？</td>\n",
       "      <td>4</td>\n",
       "      <td>1</td>\n",
       "      <td>套餐</td>\n",
       "      <td>套餐查询</td>\n",
       "    </tr>\n",
       "    <tr>\n",
       "      <th>1</th>\n",
       "      <td>13410001228T160807211011</td>\n",
       "      <td>流量不清零的介绍</td>\n",
       "      <td>流量不清零服务：所有包含流量并按月计费的主套餐（不含4G随心王）、手机流量套餐、闲时套餐，当...</td>\n",
       "      <td>6</td>\n",
       "      <td>17</td>\n",
       "      <td>流量</td>\n",
       "      <td>流量介绍</td>\n",
       "    </tr>\n",
       "    <tr>\n",
       "      <th>2</th>\n",
       "      <td>13410001228T160807211011</td>\n",
       "      <td>能否帮我查下现在用的是不是六块月租的</td>\n",
       "      <td>，您现在是6元的月租的轻松卡的套餐的</td>\n",
       "      <td>2</td>\n",
       "      <td>19</td>\n",
       "      <td>套餐</td>\n",
       "      <td>套餐查询</td>\n",
       "    </tr>\n",
       "  </tbody>\n",
       "</table>\n",
       "</div>"
      ],
      "text/plain": [
       "                       sessionid             request  \\\n",
       "0  13410000422T16082318212113APP            查询我现在的套餐   \n",
       "1       13410001228T160807211011            流量不清零的介绍   \n",
       "2       13410001228T160807211011  能否帮我查下现在用的是不是六块月租的   \n",
       "\n",
       "                                            response  cluster  index domain  \\\n",
       "0            ，您改了38元4G飞享套餐，9-13号生效哦，还在线吗，还有其他可以帮到您吗？        4      1     套餐   \n",
       "1  流量不清零服务：所有包含流量并按月计费的主套餐（不含4G随心王）、手机流量套餐、闲时套餐，当...        6     17     流量   \n",
       "2                                ，您现在是6元的月租的轻松卡的套餐的         2     19     套餐   \n",
       "\n",
       "  intention  \n",
       "0      套餐查询  \n",
       "1      流量介绍  \n",
       "2      套餐查询  "
      ]
     },
     "execution_count": 15,
     "metadata": {},
     "output_type": "execute_result"
    }
   ],
   "source": [
    "df_cluster_labeled = pd.merge(df_cluster,df_labeled)\n",
    "df_cluster_labeled = df_cluster_labeled[df_cluster_labeled.cluster != -1]\n",
    "print(df_cluster_labeled.shape)\n",
    "df_cluster_labeled.head(3)"
   ]
  },
  {
   "cell_type": "markdown",
   "metadata": {},
   "source": [
    "## 评价指标 adjusted Rand index"
   ]
  },
  {
   "cell_type": "code",
   "execution_count": 16,
   "metadata": {},
   "outputs": [
    {
     "data": {
      "text/plain": [
       "6"
      ]
     },
     "execution_count": 16,
     "metadata": {},
     "output_type": "execute_result"
    }
   ],
   "source": [
    "df_cluster_labeled.domain.unique().shape[0]"
   ]
  },
  {
   "cell_type": "code",
   "execution_count": 17,
   "metadata": {
    "scrolled": true
   },
   "outputs": [
    {
     "data": {
      "text/plain": [
       "domain\n",
       "业务     1\n",
       "套餐    23\n",
       "流量    30\n",
       "漫游     2\n",
       "积分     1\n",
       "通话     8\n",
       "Name: index, dtype: int64"
      ]
     },
     "execution_count": 17,
     "metadata": {},
     "output_type": "execute_result"
    }
   ],
   "source": [
    "df_cluster_labeled.groupby('domain').count()['index']"
   ]
  },
  {
   "cell_type": "code",
   "execution_count": 18,
   "metadata": {
    "scrolled": true
   },
   "outputs": [
    {
     "name": "stdout",
     "output_type": "stream",
     "text": [
      "0.052707306487190325\n",
      "0.23774957568114985\n"
     ]
    }
   ],
   "source": [
    "# sklearn.metrics.homogeneity_score:每一个聚出的类仅包含一个类别的程度度量。\n",
    "# sklearn.metrics.completeness:每一个类别被指向相同聚出的类的程度度量。\n",
    "from sklearn import metrics\n",
    "labels_true = df_cluster_labeled.domain\n",
    "labels_pred = df_cluster_labeled.cluster\n",
    "print(metrics.adjusted_rand_score(labels_true, labels_pred)  )\n",
    "print(metrics.homogeneity_score(labels_true, labels_pred)  )\n"
   ]
  },
  {
   "cell_type": "markdown",
   "metadata": {},
   "source": [
    "### 聚类的id进行随机分配,其系数"
   ]
  },
  {
   "cell_type": "code",
   "execution_count": 19,
   "metadata": {
    "scrolled": true
   },
   "outputs": [
    {
     "name": "stdout",
     "output_type": "stream",
     "text": [
      "0.020947106790235256\n",
      "0.15284620995572007\n"
     ]
    }
   ],
   "source": [
    "\n",
    "labels_true = df_cluster_labeled.domain\n",
    "# labels_pred = df_cluster_labeled.cluster.sample(n=df_cluster_labeled.shape[0])\n",
    "labels_pred = df_cluster_labeled.domain.sample(n=df_cluster_labeled.shape[0])\n",
    "print(metrics.adjusted_rand_score(labels_true, labels_pred)  )\n",
    "print(metrics.homogeneity_score(labels_true, labels_pred)  )"
   ]
  },
  {
   "cell_type": "code",
   "execution_count": 20,
   "metadata": {},
   "outputs": [
    {
     "data": {
      "text/plain": [
       "0.7058823529411765"
      ]
     },
     "execution_count": 20,
     "metadata": {},
     "output_type": "execute_result"
    }
   ],
   "source": [
    "labels_true = [0, 0, 0, 1, 1, 1]\n",
    "labels_pred = [0, 0, 0, 1, 1, 2]\n",
    "metrics.adjusted_rand_score(labels_true, labels_pred)"
   ]
  },
  {
   "cell_type": "markdown",
   "metadata": {},
   "source": [
    "# 结果"
   ]
  },
  {
   "cell_type": "code",
   "execution_count": 32,
   "metadata": {},
   "outputs": [
    {
     "data": {
      "text/html": [
       "<div>\n",
       "<style scoped>\n",
       "    .dataframe tbody tr th:only-of-type {\n",
       "        vertical-align: middle;\n",
       "    }\n",
       "\n",
       "    .dataframe tbody tr th {\n",
       "        vertical-align: top;\n",
       "    }\n",
       "\n",
       "    .dataframe thead th {\n",
       "        text-align: right;\n",
       "    }\n",
       "</style>\n",
       "<table border=\"1\" class=\"dataframe\">\n",
       "  <thead>\n",
       "    <tr style=\"text-align: right;\">\n",
       "      <th></th>\n",
       "      <th>sessionid</th>\n",
       "      <th>request</th>\n",
       "      <th>response</th>\n",
       "      <th>cluster</th>\n",
       "    </tr>\n",
       "  </thead>\n",
       "  <tbody>\n",
       "    <tr>\n",
       "      <th>10</th>\n",
       "      <td>13410001228T160807211011</td>\n",
       "      <td>小和要火，上月抢到的流量什么时候送</td>\n",
       "      <td>从2015年9月25日起停止发展流量转赠业务，已办理业务的客户不受影响，取消业务后将不能再办...</td>\n",
       "      <td>6</td>\n",
       "    </tr>\n",
       "    <tr>\n",
       "      <th>11</th>\n",
       "      <td>13410001228T160807211011</td>\n",
       "      <td>流量不清零的介绍</td>\n",
       "      <td>流量不清零服务：所有包含流量并按月计费的主套餐（不含4G随心王）、手机流量套餐、闲时套餐，当...</td>\n",
       "      <td>6</td>\n",
       "    </tr>\n",
       "    <tr>\n",
       "      <th>19</th>\n",
       "      <td>13410002616T16082008352093APP</td>\n",
       "      <td>WLAN流量是什么</td>\n",
       "      <td>就是移动公众场所的WIFI</td>\n",
       "      <td>6</td>\n",
       "    </tr>\n",
       "    <tr>\n",
       "      <th>44</th>\n",
       "      <td>13410008121T160807120304</td>\n",
       "      <td>我说的是奥运流量包19元hello</td>\n",
       "      <td>只能尝试发送19元 发送KTAYLLB19至10086。办理</td>\n",
       "      <td>6</td>\n",
       "    </tr>\n",
       "    <tr>\n",
       "      <th>53</th>\n",
       "      <td>13410008884T16081619464102APP</td>\n",
       "      <td>通用流量还是定向流量呢是不是什么方面都可以用的呀</td>\n",
       "      <td>，不是的哦会员权益流量包的使用方法：央视咪咕视讯会员、新媒体会员客户可通过线上办理页面、短信...</td>\n",
       "      <td>6</td>\n",
       "    </tr>\n",
       "    <tr>\n",
       "      <th>57</th>\n",
       "      <td>13410011005T160808211517</td>\n",
       "      <td>我开的短号群怎么只有一个号码可以用呢</td>\n",
       "      <td>，您已进入人工服务，可直接输入文字提问，例如查询剩余流量……等等哦查询您目前只加了一个副号哦，</td>\n",
       "      <td>6</td>\n",
       "    </tr>\n",
       "    <tr>\n",
       "      <th>80</th>\n",
       "      <td>13410017729T160829205935</td>\n",
       "      <td>免费套餐介绍</td>\n",
       "      <td>移动公司暂未推出拨打电话免费的套餐，感谢您的关注。我公司现推出4G上网套餐，共包含58-88...</td>\n",
       "      <td>6</td>\n",
       "    </tr>\n",
       "    <tr>\n",
       "      <th>81</th>\n",
       "      <td>13410017729T160829205935</td>\n",
       "      <td>取消流量套餐</td>\n",
       "      <td>手机流量套餐取消方法：免费发QXLL或QXSJLL到10086，根据二次确认短信提示，1小时...</td>\n",
       "      <td>6</td>\n",
       "    </tr>\n",
       "    <tr>\n",
       "      <th>84</th>\n",
       "      <td>13410018328T160813203950</td>\n",
       "      <td>电信卡可以加家庭短号？</td>\n",
       "      <td>不可以家庭短号只能加广东省内的移动号码</td>\n",
       "      <td>6</td>\n",
       "    </tr>\n",
       "    <tr>\n",
       "      <th>85</th>\n",
       "      <td>13410018485T16080117224466APP</td>\n",
       "      <td>闲时流量使用时间</td>\n",
       "      <td>23：00-8:00还有什么可以帮到的呢？</td>\n",
       "      <td>6</td>\n",
       "    </tr>\n",
       "    <tr>\n",
       "      <th>93</th>\n",
       "      <td>13410021723T160810120140</td>\n",
       "      <td>现在网络怎么那么差</td>\n",
       "      <td>在哪里</td>\n",
       "      <td>6</td>\n",
       "    </tr>\n",
       "    <tr>\n",
       "      <th>95</th>\n",
       "      <td>13410021723T160810120140</td>\n",
       "      <td>有2G信号现在4G才一二格</td>\n",
       "      <td>喔喔尊敬的客户，为有效改善您上网的困扰，请您直接回复DZ+地址至10086，地址越详细越好哦...</td>\n",
       "      <td>6</td>\n",
       "    </tr>\n",
       "    <tr>\n",
       "      <th>103</th>\n",
       "      <td>13410022560T160817102657</td>\n",
       "      <td>国际漫游流量优惠</td>\n",
       "      <td>国际漫游流量优惠暑假来袭：【1】国际漫游流量促销优惠【2】2016南美行限时流量特惠包戳我进...</td>\n",
       "      <td>6</td>\n",
       "    </tr>\n",
       "    <tr>\n",
       "      <th>107</th>\n",
       "      <td>13410022560T160817102657</td>\n",
       "      <td>我19号才飞，那我18号会产生漫游费吗/pwdResult:0:13410022560#服务...</td>\n",
       "      <td>重新来吧/checkPwd:13410022560/</td>\n",
       "      <td>6</td>\n",
       "    </tr>\n",
       "    <tr>\n",
       "      <th>110</th>\n",
       "      <td>13410022943T160805210659</td>\n",
       "      <td>不是七夕快到了吗没有什么其他活动吗</td>\n",
       "      <td>，2016年8月5日至12日，关注并绑定深圳移动官方微信用户在“深圳移动”公众号上指定内容，...</td>\n",
       "      <td>6</td>\n",
       "    </tr>\n",
       "    <tr>\n",
       "      <th>116</th>\n",
       "      <td>13410023777T16080911034596APP</td>\n",
       "      <td>找回中国移动手机APP密码</td>\n",
       "      <td>，登录的话一般是手机号码密码，如果您忘记的话，可以再网站重置您可通过本机登陆广东移动网站首页...</td>\n",
       "      <td>6</td>\n",
       "    </tr>\n",
       "    <tr>\n",
       "      <th>119</th>\n",
       "      <td>13410024246T16081020042922APP</td>\n",
       "      <td>是不是老用户的福利啊请你发下我近月来的费用详情给我吧</td>\n",
       "      <td>，详单无法发送哦。，如需查询帐单可用手机登录 wap.10086.cn 后，在“查询”的菜单...</td>\n",
       "      <td>6</td>\n",
       "    </tr>\n",
       "    <tr>\n",
       "      <th>129</th>\n",
       "      <td>13410025917T16081916591632APP</td>\n",
       "      <td>哦！那还有什么流量优惠没</td>\n",
       "      <td>您可以下载广东移动APP上面有一个天天来抽奖，每天3次机会可以抽0元1G流量特惠包办理的活动...</td>\n",
       "      <td>6</td>\n",
       "    </tr>\n",
       "    <tr>\n",
       "      <th>138</th>\n",
       "      <td>13410028479T160809204157</td>\n",
       "      <td>再问一下。那手机需要设置什么吗。因为第一次开 不太明白</td>\n",
       "      <td>如开通香港日套餐到香港后无法使用，建议在手机设置的网络设置中操作手动搜索中国移动香港公司CM...</td>\n",
       "      <td>6</td>\n",
       "    </tr>\n",
       "    <tr>\n",
       "      <th>153</th>\n",
       "      <td>13410033307T16080916313705APP</td>\n",
       "      <td>请问要预存多少话费就有购机补贴</td>\n",
       "      <td>，购机优惠的相关机型及活动介绍或办理，可登录商城网站 http://shop.10086.c...</td>\n",
       "      <td>6</td>\n",
       "    </tr>\n",
       "  </tbody>\n",
       "</table>\n",
       "</div>"
      ],
      "text/plain": [
       "                         sessionid  \\\n",
       "10        13410001228T160807211011   \n",
       "11        13410001228T160807211011   \n",
       "19   13410002616T16082008352093APP   \n",
       "44        13410008121T160807120304   \n",
       "53   13410008884T16081619464102APP   \n",
       "57        13410011005T160808211517   \n",
       "80        13410017729T160829205935   \n",
       "81        13410017729T160829205935   \n",
       "84        13410018328T160813203950   \n",
       "85   13410018485T16080117224466APP   \n",
       "93        13410021723T160810120140   \n",
       "95        13410021723T160810120140   \n",
       "103       13410022560T160817102657   \n",
       "107       13410022560T160817102657   \n",
       "110       13410022943T160805210659   \n",
       "116  13410023777T16080911034596APP   \n",
       "119  13410024246T16081020042922APP   \n",
       "129  13410025917T16081916591632APP   \n",
       "138       13410028479T160809204157   \n",
       "153  13410033307T16080916313705APP   \n",
       "\n",
       "                                               request  \\\n",
       "10                                   小和要火，上月抢到的流量什么时候送   \n",
       "11                                            流量不清零的介绍   \n",
       "19                                           WLAN流量是什么   \n",
       "44                                   我说的是奥运流量包19元hello   \n",
       "53                            通用流量还是定向流量呢是不是什么方面都可以用的呀   \n",
       "57                                  我开的短号群怎么只有一个号码可以用呢   \n",
       "80                                              免费套餐介绍   \n",
       "81                                              取消流量套餐   \n",
       "84                                         电信卡可以加家庭短号？   \n",
       "85                                            闲时流量使用时间   \n",
       "93                                           现在网络怎么那么差   \n",
       "95                                       有2G信号现在4G才一二格   \n",
       "103                                           国际漫游流量优惠   \n",
       "107  我19号才飞，那我18号会产生漫游费吗/pwdResult:0:13410022560#服务...   \n",
       "110                                  不是七夕快到了吗没有什么其他活动吗   \n",
       "116                                      找回中国移动手机APP密码   \n",
       "119                         是不是老用户的福利啊请你发下我近月来的费用详情给我吧   \n",
       "129                                       哦！那还有什么流量优惠没   \n",
       "138                        再问一下。那手机需要设置什么吗。因为第一次开 不太明白   \n",
       "153                                    请问要预存多少话费就有购机补贴   \n",
       "\n",
       "                                              response  cluster  \n",
       "10   从2015年9月25日起停止发展流量转赠业务，已办理业务的客户不受影响，取消业务后将不能再办...        6  \n",
       "11   流量不清零服务：所有包含流量并按月计费的主套餐（不含4G随心王）、手机流量套餐、闲时套餐，当...        6  \n",
       "19                                       就是移动公众场所的WIFI        6  \n",
       "44                      只能尝试发送19元 发送KTAYLLB19至10086。办理        6  \n",
       "53   ，不是的哦会员权益流量包的使用方法：央视咪咕视讯会员、新媒体会员客户可通过线上办理页面、短信...        6  \n",
       "57     ，您已进入人工服务，可直接输入文字提问，例如查询剩余流量……等等哦查询您目前只加了一个副号哦，        6  \n",
       "80   移动公司暂未推出拨打电话免费的套餐，感谢您的关注。我公司现推出4G上网套餐，共包含58-88...        6  \n",
       "81   手机流量套餐取消方法：免费发QXLL或QXSJLL到10086，根据二次确认短信提示，1小时...        6  \n",
       "84                                不可以家庭短号只能加广东省内的移动号码         6  \n",
       "85                               23：00-8:00还有什么可以帮到的呢？        6  \n",
       "93                                                 在哪里        6  \n",
       "95   喔喔尊敬的客户，为有效改善您上网的困扰，请您直接回复DZ+地址至10086，地址越详细越好哦...        6  \n",
       "103  国际漫游流量优惠暑假来袭：【1】国际漫游流量促销优惠【2】2016南美行限时流量特惠包戳我进...        6  \n",
       "107                         重新来吧/checkPwd:13410022560/        6  \n",
       "110  ，2016年8月5日至12日，关注并绑定深圳移动官方微信用户在“深圳移动”公众号上指定内容，...        6  \n",
       "116  ，登录的话一般是手机号码密码，如果您忘记的话，可以再网站重置您可通过本机登陆广东移动网站首页...        6  \n",
       "119  ，详单无法发送哦。，如需查询帐单可用手机登录 wap.10086.cn 后，在“查询”的菜单...        6  \n",
       "129  您可以下载广东移动APP上面有一个天天来抽奖，每天3次机会可以抽0元1G流量特惠包办理的活动...        6  \n",
       "138  如开通香港日套餐到香港后无法使用，建议在手机设置的网络设置中操作手动搜索中国移动香港公司CM...        6  \n",
       "153  ，购机优惠的相关机型及活动介绍或办理，可登录商城网站 http://shop.10086.c...        6  "
      ]
     },
     "execution_count": 32,
     "metadata": {},
     "output_type": "execute_result"
    }
   ],
   "source": [
    "df_cluster[df_cluster.cluster == 6][:20]"
   ]
  },
  {
   "cell_type": "code",
   "execution_count": 22,
   "metadata": {},
   "outputs": [
    {
     "data": {
      "text/html": [
       "<div>\n",
       "<style scoped>\n",
       "    .dataframe tbody tr th:only-of-type {\n",
       "        vertical-align: middle;\n",
       "    }\n",
       "\n",
       "    .dataframe tbody tr th {\n",
       "        vertical-align: top;\n",
       "    }\n",
       "\n",
       "    .dataframe thead th {\n",
       "        text-align: right;\n",
       "    }\n",
       "</style>\n",
       "<table border=\"1\" class=\"dataframe\">\n",
       "  <thead>\n",
       "    <tr style=\"text-align: right;\">\n",
       "      <th></th>\n",
       "      <th>sessionid</th>\n",
       "      <th>request</th>\n",
       "      <th>response</th>\n",
       "      <th>cluster</th>\n",
       "      <th>index</th>\n",
       "      <th>domain</th>\n",
       "      <th>intention</th>\n",
       "    </tr>\n",
       "  </thead>\n",
       "  <tbody>\n",
       "    <tr>\n",
       "      <th>1</th>\n",
       "      <td>13410001228T160807211011</td>\n",
       "      <td>流量不清零的介绍</td>\n",
       "      <td>流量不清零服务：所有包含流量并按月计费的主套餐（不含4G随心王）、手机流量套餐、闲时套餐，当...</td>\n",
       "      <td>6</td>\n",
       "      <td>17</td>\n",
       "      <td>流量</td>\n",
       "      <td>流量介绍</td>\n",
       "    </tr>\n",
       "    <tr>\n",
       "      <th>4</th>\n",
       "      <td>13410002616T16082008352093APP</td>\n",
       "      <td>WLAN流量是什么</td>\n",
       "      <td>就是移动公众场所的WIFI</td>\n",
       "      <td>6</td>\n",
       "      <td>26</td>\n",
       "      <td>流量</td>\n",
       "      <td>流量介绍</td>\n",
       "    </tr>\n",
       "    <tr>\n",
       "      <th>16</th>\n",
       "      <td>13410061331T16082619274909APP</td>\n",
       "      <td>所以我的号每个月都要扣多少钱呢</td>\n",
       "      <td>外网短信通讯费 20160826 ￥1.35本地省际长途费 20160826 ￥1.17本地...</td>\n",
       "      <td>6</td>\n",
       "      <td>516</td>\n",
       "      <td>通话</td>\n",
       "      <td>话费查询</td>\n",
       "    </tr>\n",
       "    <tr>\n",
       "      <th>27</th>\n",
       "      <td>13410087471T160829145808</td>\n",
       "      <td>我的是深圳卡在广州沟通100可以办理换4G卡吗？</td>\n",
       "      <td>目前0元换4G卡暂只可通过沟通100营业厅办理，网站、“广东移动手机营业厅”APP等渠道暂停...</td>\n",
       "      <td>6</td>\n",
       "      <td>789</td>\n",
       "      <td>套餐</td>\n",
       "      <td>套餐办理</td>\n",
       "    </tr>\n",
       "    <tr>\n",
       "      <th>30</th>\n",
       "      <td>13410098426T16081108460441APP</td>\n",
       "      <td>办理特惠包怎么办呢你帮我办理是在线办理吗</td>\n",
       "      <td>办理特惠包需要验证密码，您通过短信进入在线，验证不了服务密码哦，爱的您只是办特惠包，没有收到...</td>\n",
       "      <td>6</td>\n",
       "      <td>836</td>\n",
       "      <td>流量</td>\n",
       "      <td>流量办理</td>\n",
       "    </tr>\n",
       "    <tr>\n",
       "      <th>37</th>\n",
       "      <td>13410116016T16081808223308APP</td>\n",
       "      <td>交话费，也是在支付宝怎么行？流量就不行了？</td>\n",
       "      <td>流量申请可以通过短信、移动官网或者人工办理哦！请不要通过第三方的途径办理，谢谢！</td>\n",
       "      <td>6</td>\n",
       "      <td>977</td>\n",
       "      <td>通话</td>\n",
       "      <td>话费充值</td>\n",
       "    </tr>\n",
       "  </tbody>\n",
       "</table>\n",
       "</div>"
      ],
      "text/plain": [
       "                        sessionid                   request  \\\n",
       "1        13410001228T160807211011                  流量不清零的介绍   \n",
       "4   13410002616T16082008352093APP                 WLAN流量是什么   \n",
       "16  13410061331T16082619274909APP           所以我的号每个月都要扣多少钱呢   \n",
       "27       13410087471T160829145808  我的是深圳卡在广州沟通100可以办理换4G卡吗？   \n",
       "30  13410098426T16081108460441APP      办理特惠包怎么办呢你帮我办理是在线办理吗   \n",
       "37  13410116016T16081808223308APP     交话费，也是在支付宝怎么行？流量就不行了？   \n",
       "\n",
       "                                             response  cluster  index domain  \\\n",
       "1   流量不清零服务：所有包含流量并按月计费的主套餐（不含4G随心王）、手机流量套餐、闲时套餐，当...        6     17     流量   \n",
       "4                                       就是移动公众场所的WIFI        6     26     流量   \n",
       "16  外网短信通讯费 20160826 ￥1.35本地省际长途费 20160826 ￥1.17本地...        6    516     通话   \n",
       "27  目前0元换4G卡暂只可通过沟通100营业厅办理，网站、“广东移动手机营业厅”APP等渠道暂停...        6    789     套餐   \n",
       "30  办理特惠包需要验证密码，您通过短信进入在线，验证不了服务密码哦，爱的您只是办特惠包，没有收到...        6    836     流量   \n",
       "37           流量申请可以通过短信、移动官网或者人工办理哦！请不要通过第三方的途径办理，谢谢！        6    977     通话   \n",
       "\n",
       "   intention  \n",
       "1       流量介绍  \n",
       "4       流量介绍  \n",
       "16      话费查询  \n",
       "27      套餐办理  \n",
       "30      流量办理  \n",
       "37      话费充值  "
      ]
     },
     "execution_count": 22,
     "metadata": {},
     "output_type": "execute_result"
    }
   ],
   "source": [
    "df_cluster_labeled[df_cluster_labeled.cluster == 6][:10]"
   ]
  },
  {
   "cell_type": "markdown",
   "metadata": {},
   "source": [
    "## 对labeled数据进行聚类"
   ]
  },
  {
   "cell_type": "code",
   "execution_count": 23,
   "metadata": {},
   "outputs": [
    {
     "name": "stderr",
     "output_type": "stream",
     "text": [
      "/Users/lucas/anaconda/envs/py3/lib/python3.6/site-packages/ipykernel/__main__.py:2: DeprecationWarning: Call to deprecated `__getitem__` (Method will be removed in 4.0.0, use self.wv.__getitem__() instead).\n",
      "  from ipykernel import kernelapp as app\n",
      "/Users/lucas/anaconda/envs/py3/lib/python3.6/site-packages/ipykernel/__main__.py:5: DeprecationWarning: Call to deprecated `__contains__` (Method will be removed in 4.0.0, use self.wv.__contains__() instead).\n",
      "/Users/lucas/anaconda/envs/py3/lib/python3.6/site-packages/ipykernel/__main__.py:5: DeprecationWarning: Call to deprecated `__getitem__` (Method will be removed in 4.0.0, use self.wv.__getitem__() instead).\n"
     ]
    }
   ],
   "source": [
    "sens_vec_labeld = []\n",
    "black = np.array([0]*w['套餐'].shape[0])\n",
    "for sen in df_labeled.request:\n",
    "    sen = [vec for vec in jieba.cut(sen)]\n",
    "    sen_array = [w[i] if i in w else black for i in sen]\n",
    "    sens_vec_labeld.append(sum(sen_array)/float(len(sen_array)))"
   ]
  },
  {
   "cell_type": "code",
   "execution_count": 24,
   "metadata": {
    "scrolled": false
   },
   "outputs": [
    {
     "data": {
      "text/html": [
       "<div>\n",
       "<style scoped>\n",
       "    .dataframe tbody tr th:only-of-type {\n",
       "        vertical-align: middle;\n",
       "    }\n",
       "\n",
       "    .dataframe tbody tr th {\n",
       "        vertical-align: top;\n",
       "    }\n",
       "\n",
       "    .dataframe thead th {\n",
       "        text-align: right;\n",
       "    }\n",
       "</style>\n",
       "<table border=\"1\" class=\"dataframe\">\n",
       "  <thead>\n",
       "    <tr style=\"text-align: right;\">\n",
       "      <th></th>\n",
       "      <th></th>\n",
       "      <th>sessionid</th>\n",
       "      <th>request</th>\n",
       "      <th>response</th>\n",
       "      <th>index</th>\n",
       "      <th>intention</th>\n",
       "    </tr>\n",
       "    <tr>\n",
       "      <th>cluster</th>\n",
       "      <th>domain</th>\n",
       "      <th></th>\n",
       "      <th></th>\n",
       "      <th></th>\n",
       "      <th></th>\n",
       "      <th></th>\n",
       "    </tr>\n",
       "  </thead>\n",
       "  <tbody>\n",
       "    <tr>\n",
       "      <th rowspan=\"3\" valign=\"top\">0</th>\n",
       "      <th>套餐</th>\n",
       "      <td>3</td>\n",
       "      <td>3</td>\n",
       "      <td>3</td>\n",
       "      <td>3</td>\n",
       "      <td>3</td>\n",
       "    </tr>\n",
       "    <tr>\n",
       "      <th>流量</th>\n",
       "      <td>10</td>\n",
       "      <td>10</td>\n",
       "      <td>10</td>\n",
       "      <td>10</td>\n",
       "      <td>10</td>\n",
       "    </tr>\n",
       "    <tr>\n",
       "      <th>通话</th>\n",
       "      <td>1</td>\n",
       "      <td>1</td>\n",
       "      <td>1</td>\n",
       "      <td>1</td>\n",
       "      <td>1</td>\n",
       "    </tr>\n",
       "    <tr>\n",
       "      <th rowspan=\"4\" valign=\"top\">1</th>\n",
       "      <th>业务</th>\n",
       "      <td>1</td>\n",
       "      <td>1</td>\n",
       "      <td>1</td>\n",
       "      <td>1</td>\n",
       "      <td>1</td>\n",
       "    </tr>\n",
       "    <tr>\n",
       "      <th>套餐</th>\n",
       "      <td>2</td>\n",
       "      <td>2</td>\n",
       "      <td>2</td>\n",
       "      <td>2</td>\n",
       "      <td>2</td>\n",
       "    </tr>\n",
       "    <tr>\n",
       "      <th>流量</th>\n",
       "      <td>7</td>\n",
       "      <td>7</td>\n",
       "      <td>7</td>\n",
       "      <td>7</td>\n",
       "      <td>7</td>\n",
       "    </tr>\n",
       "    <tr>\n",
       "      <th>积分</th>\n",
       "      <td>1</td>\n",
       "      <td>1</td>\n",
       "      <td>1</td>\n",
       "      <td>1</td>\n",
       "      <td>1</td>\n",
       "    </tr>\n",
       "    <tr>\n",
       "      <th rowspan=\"3\" valign=\"top\">2</th>\n",
       "      <th>套餐</th>\n",
       "      <td>4</td>\n",
       "      <td>4</td>\n",
       "      <td>4</td>\n",
       "      <td>4</td>\n",
       "      <td>4</td>\n",
       "    </tr>\n",
       "    <tr>\n",
       "      <th>流量</th>\n",
       "      <td>3</td>\n",
       "      <td>3</td>\n",
       "      <td>3</td>\n",
       "      <td>3</td>\n",
       "      <td>3</td>\n",
       "    </tr>\n",
       "    <tr>\n",
       "      <th>通话</th>\n",
       "      <td>1</td>\n",
       "      <td>1</td>\n",
       "      <td>1</td>\n",
       "      <td>1</td>\n",
       "      <td>1</td>\n",
       "    </tr>\n",
       "    <tr>\n",
       "      <th rowspan=\"2\" valign=\"top\">3</th>\n",
       "      <th>套餐</th>\n",
       "      <td>7</td>\n",
       "      <td>7</td>\n",
       "      <td>7</td>\n",
       "      <td>7</td>\n",
       "      <td>7</td>\n",
       "    </tr>\n",
       "    <tr>\n",
       "      <th>流量</th>\n",
       "      <td>2</td>\n",
       "      <td>2</td>\n",
       "      <td>2</td>\n",
       "      <td>2</td>\n",
       "      <td>2</td>\n",
       "    </tr>\n",
       "    <tr>\n",
       "      <th rowspan=\"3\" valign=\"top\">4</th>\n",
       "      <th>套餐</th>\n",
       "      <td>5</td>\n",
       "      <td>5</td>\n",
       "      <td>5</td>\n",
       "      <td>5</td>\n",
       "      <td>5</td>\n",
       "    </tr>\n",
       "    <tr>\n",
       "      <th>流量</th>\n",
       "      <td>3</td>\n",
       "      <td>3</td>\n",
       "      <td>3</td>\n",
       "      <td>3</td>\n",
       "      <td>3</td>\n",
       "    </tr>\n",
       "    <tr>\n",
       "      <th>通话</th>\n",
       "      <td>3</td>\n",
       "      <td>3</td>\n",
       "      <td>3</td>\n",
       "      <td>3</td>\n",
       "      <td>3</td>\n",
       "    </tr>\n",
       "    <tr>\n",
       "      <th rowspan=\"4\" valign=\"top\">5</th>\n",
       "      <th>套餐</th>\n",
       "      <td>1</td>\n",
       "      <td>1</td>\n",
       "      <td>1</td>\n",
       "      <td>1</td>\n",
       "      <td>1</td>\n",
       "    </tr>\n",
       "    <tr>\n",
       "      <th>流量</th>\n",
       "      <td>2</td>\n",
       "      <td>2</td>\n",
       "      <td>2</td>\n",
       "      <td>2</td>\n",
       "      <td>2</td>\n",
       "    </tr>\n",
       "    <tr>\n",
       "      <th>漫游</th>\n",
       "      <td>2</td>\n",
       "      <td>2</td>\n",
       "      <td>2</td>\n",
       "      <td>2</td>\n",
       "      <td>2</td>\n",
       "    </tr>\n",
       "    <tr>\n",
       "      <th>通话</th>\n",
       "      <td>1</td>\n",
       "      <td>1</td>\n",
       "      <td>1</td>\n",
       "      <td>1</td>\n",
       "      <td>1</td>\n",
       "    </tr>\n",
       "    <tr>\n",
       "      <th rowspan=\"3\" valign=\"top\">6</th>\n",
       "      <th>套餐</th>\n",
       "      <td>1</td>\n",
       "      <td>1</td>\n",
       "      <td>1</td>\n",
       "      <td>1</td>\n",
       "      <td>1</td>\n",
       "    </tr>\n",
       "    <tr>\n",
       "      <th>流量</th>\n",
       "      <td>3</td>\n",
       "      <td>3</td>\n",
       "      <td>3</td>\n",
       "      <td>3</td>\n",
       "      <td>3</td>\n",
       "    </tr>\n",
       "    <tr>\n",
       "      <th>通话</th>\n",
       "      <td>2</td>\n",
       "      <td>2</td>\n",
       "      <td>2</td>\n",
       "      <td>2</td>\n",
       "      <td>2</td>\n",
       "    </tr>\n",
       "  </tbody>\n",
       "</table>\n",
       "</div>"
      ],
      "text/plain": [
       "                sessionid  request  response  index  intention\n",
       "cluster domain                                                \n",
       "0       套餐              3        3         3      3          3\n",
       "        流量             10       10        10     10         10\n",
       "        通话              1        1         1      1          1\n",
       "1       业务              1        1         1      1          1\n",
       "        套餐              2        2         2      2          2\n",
       "        流量              7        7         7      7          7\n",
       "        积分              1        1         1      1          1\n",
       "2       套餐              4        4         4      4          4\n",
       "        流量              3        3         3      3          3\n",
       "        通话              1        1         1      1          1\n",
       "3       套餐              7        7         7      7          7\n",
       "        流量              2        2         2      2          2\n",
       "4       套餐              5        5         5      5          5\n",
       "        流量              3        3         3      3          3\n",
       "        通话              3        3         3      3          3\n",
       "5       套餐              1        1         1      1          1\n",
       "        流量              2        2         2      2          2\n",
       "        漫游              2        2         2      2          2\n",
       "        通话              1        1         1      1          1\n",
       "6       套餐              1        1         1      1          1\n",
       "        流量              3        3         3      3          3\n",
       "        通话              2        2         2      2          2"
      ]
     },
     "execution_count": 24,
     "metadata": {},
     "output_type": "execute_result"
    }
   ],
   "source": [
    "df_cluster_labeled.groupby(['cluster','domain',]).count()"
   ]
  },
  {
   "cell_type": "markdown",
   "metadata": {},
   "source": [
    "```python\n",
    "def cluster(feature_name, k):\n",
    "    sens_vec = []\n",
    "    black = np.array([0]*w['套餐'].shape[0])\n",
    "    for sen in df.response:\n",
    "        sen = [vec for vec in jieba.cut(sen)]\n",
    "        sens_vec.append(sum([w[i] if i in w else black for i in sen]))\n",
    "    clf = KMeans(n_clusters=k) #设定k，这里就是调用KMeans算法\n",
    "    s = clf.fit(sens_vec) #加载数据集合\n",
    "    df_cluster = pd.concat((df,pd.DataFrame(clf.labels_,columns = ['cluster'])),axis = 1)\n",
    "    return clf, df_cluster\n",
    "\n",
    "clf_reponse, cluster_response = cluster('response', 30)\n",
    "clf_request, cluster_request = cluster('request', 30)\n",
    "\n",
    "fig,(ax0,ax1) = plt.subplots(nrows=2,figsize=(9,6)) \n",
    "ax0.hist(cluster_request.cluster,40,histtype='bar',facecolor='yellowgreen',alpha=0.75)\n",
    "ax0.set_title('request')\n",
    "ax1.hist(cluster_response.cluster,40,histtype='bar',facecolor='pink',alpha=0.75,) \n",
    "ax1.set_title(\"response\") \n",
    "fig.subplots_adjust(hspace=0.4) \n",
    "plt.show()\n",
    "```"
   ]
  }
 ],
 "metadata": {
  "hide_input": false,
  "kernelspec": {
   "display_name": "Python [conda env:py3]",
   "language": "python",
   "name": "conda-env-py3-py"
  },
  "language_info": {
   "codemirror_mode": {
    "name": "ipython",
    "version": 3
   },
   "file_extension": ".py",
   "mimetype": "text/x-python",
   "name": "python",
   "nbconvert_exporter": "python",
   "pygments_lexer": "ipython3",
   "version": "3.6.4"
  },
  "varInspector": {
   "cols": {
    "lenName": 16,
    "lenType": 16,
    "lenVar": 40
   },
   "kernels_config": {
    "python": {
     "delete_cmd_postfix": "",
     "delete_cmd_prefix": "del ",
     "library": "var_list.py",
     "varRefreshCmd": "print(var_dic_list())"
    },
    "r": {
     "delete_cmd_postfix": ") ",
     "delete_cmd_prefix": "rm(",
     "library": "var_list.r",
     "varRefreshCmd": "cat(var_dic_list()) "
    }
   },
   "position": {
    "height": "447px",
    "left": "1017px",
    "right": "73px",
    "top": "47px",
    "width": "350px"
   },
   "types_to_exclude": [
    "module",
    "function",
    "builtin_function_or_method",
    "instance",
    "_Feature"
   ],
   "window_display": false
  }
 },
 "nbformat": 4,
 "nbformat_minor": 2
}
