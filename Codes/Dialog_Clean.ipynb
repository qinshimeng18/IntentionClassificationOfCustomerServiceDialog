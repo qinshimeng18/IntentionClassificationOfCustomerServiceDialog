{
 "cells": [
  {
   "cell_type": "code",
   "execution_count": 1,
   "metadata": {
    "collapsed": true,
    "nbpresent": {
     "id": "f1b90069-bc88-4118-84f0-55b47a08cc0e"
    }
   },
   "outputs": [],
   "source": [
    "import numpy as np\n",
    "import pandas as pd \n",
    "import matplotlib.pyplot as plt\n",
    "import seaborn as sns\n",
    "%matplotlib inline"
   ]
  },
  {
   "cell_type": "code",
   "execution_count": 2,
   "metadata": {
    "nbpresent": {
     "id": "01a1ca13-fc28-4af0-a17b-087716f5c254"
    },
    "scrolled": false
   },
   "outputs": [
    {
     "name": "stderr",
     "output_type": "stream",
     "text": [
      "b'Skipping line 1964: expected 8 fields, saw 9\\nSkipping line 3002: expected 8 fields, saw 9\\nSkipping line 7243: expected 8 fields, saw 9\\nSkipping line 14038: expected 8 fields, saw 9\\nSkipping line 26871: expected 8 fields, saw 9\\nSkipping line 26874: expected 8 fields, saw 9\\nSkipping line 42609: expected 8 fields, saw 10\\nSkipping line 46446: expected 8 fields, saw 10\\nSkipping line 46517: expected 8 fields, saw 10\\nSkipping line 56296: expected 8 fields, saw 9\\nSkipping line 56992: expected 8 fields, saw 9\\nSkipping line 61649: expected 8 fields, saw 10\\n'\n"
     ]
    },
    {
     "data": {
      "text/plain": [
       "(70806, 8)"
      ]
     },
     "execution_count": 2,
     "metadata": {},
     "output_type": "execute_result"
    }
   ],
   "source": [
    "df = pd.read_csv('./msbd-project-data1/a/a.csv',error_bad_lines=False,sep='|')\n",
    "df.shape\n",
    "# lines = []\n",
    "# with open('./msbd-project-data1/b/a.csv') as f:\n",
    "#     for line in f:\n",
    "#         l = line.split(',')\n",
    "#         l[7:-4]=[','.join(l[7:-4])]\n",
    "#         lines.append(l)\n",
    "# df = pd.DataFrame(lines,columns = ['id','uid','nicename','marks','caseid','engid','engineer','content','type','is_flag','send_time','create_time'])"
   ]
  },
  {
   "cell_type": "code",
   "execution_count": 11,
   "metadata": {
    "scrolled": false
   },
   "outputs": [
    {
     "name": "stdout",
     "output_type": "stream",
     "text": [
      "Index(['sessionid', 'id', 'acceptnumber', 'requesttime', 'request',\n",
      "       'serviceid', 'responsetime', 'response'],\n",
      "      dtype='object')\n"
     ]
    },
    {
     "data": {
      "text/html": [
       "<div>\n",
       "<style scoped>\n",
       "    .dataframe tbody tr th:only-of-type {\n",
       "        vertical-align: middle;\n",
       "    }\n",
       "\n",
       "    .dataframe tbody tr th {\n",
       "        vertical-align: top;\n",
       "    }\n",
       "\n",
       "    .dataframe thead th {\n",
       "        text-align: right;\n",
       "    }\n",
       "</style>\n",
       "<table border=\"1\" class=\"dataframe\">\n",
       "  <thead>\n",
       "    <tr style=\"text-align: right;\">\n",
       "      <th></th>\n",
       "      <th>sessionid</th>\n",
       "      <th>id</th>\n",
       "      <th>acceptnumber</th>\n",
       "      <th>requesttime</th>\n",
       "      <th>request</th>\n",
       "      <th>serviceid</th>\n",
       "      <th>responsetime</th>\n",
       "      <th>response</th>\n",
       "    </tr>\n",
       "  </thead>\n",
       "  <tbody>\n",
       "    <tr>\n",
       "      <th>10</th>\n",
       "      <td>13410000258T16081911402229APP</td>\n",
       "      <td>73</td>\n",
       "      <td>10000000258</td>\n",
       "      <td>31DEC99:00:00:00</td>\n",
       "      <td>-1</td>\n",
       "      <td>SZ31537</td>\n",
       "      <td>19AUG16:11:46:07</td>\n",
       "      <td>好的</td>\n",
       "    </tr>\n",
       "    <tr>\n",
       "      <th>11</th>\n",
       "      <td>13410000258T16081911402229APP</td>\n",
       "      <td>74</td>\n",
       "      <td>10000000258</td>\n",
       "      <td>31DEC99:00:00:00</td>\n",
       "      <td>-1</td>\n",
       "      <td>SZ31537</td>\n",
       "      <td>19AUG16:11:46:17</td>\n",
       "      <td>如果没有其他业务，小和先退下了，收到10086046短信后请回复数字1，赏赐小和本人1008...</td>\n",
       "    </tr>\n",
       "    <tr>\n",
       "      <th>12</th>\n",
       "      <td>13410000258T16081911402229APP</td>\n",
       "      <td>75</td>\n",
       "      <td>10000000258</td>\n",
       "      <td>19AUG16:11:46:43</td>\n",
       "      <td>可以了谢谢</td>\n",
       "      <td>SZ31537</td>\n",
       "      <td>31DEC99:00:00:00</td>\n",
       "      <td>-1</td>\n",
       "    </tr>\n",
       "    <tr>\n",
       "      <th>13</th>\n",
       "      <td>13410000258T16081911402229APP</td>\n",
       "      <td>76</td>\n",
       "      <td>10000000258</td>\n",
       "      <td>31DEC99:00:00:00</td>\n",
       "      <td>-1</td>\n",
       "      <td>SZ31537</td>\n",
       "      <td>19AUG16:11:46:51</td>\n",
       "      <td>不客气</td>\n",
       "    </tr>\n",
       "    <tr>\n",
       "      <th>14</th>\n",
       "      <td>13410000422T16082318212113APP</td>\n",
       "      <td>118</td>\n",
       "      <td>10000000422</td>\n",
       "      <td>23AUG16:18:21:25</td>\n",
       "      <td>人工</td>\n",
       "      <td>SZ31908</td>\n",
       "      <td>31DEC99:00:00:00</td>\n",
       "      <td>-1</td>\n",
       "    </tr>\n",
       "    <tr>\n",
       "      <th>15</th>\n",
       "      <td>13410000422T16082318212113APP</td>\n",
       "      <td>119</td>\n",
       "      <td>10000000422</td>\n",
       "      <td>23AUG16:18:21:26</td>\n",
       "      <td>Hello</td>\n",
       "      <td>SZ31908</td>\n",
       "      <td>31DEC99:00:00:00</td>\n",
       "      <td>-1</td>\n",
       "    </tr>\n",
       "    <tr>\n",
       "      <th>16</th>\n",
       "      <td>13410000422T16082318212113APP</td>\n",
       "      <td>120</td>\n",
       "      <td>10000000422</td>\n",
       "      <td>31DEC99:00:00:00</td>\n",
       "      <td>-1</td>\n",
       "      <td>SZ31908</td>\n",
       "      <td>23AUG16:18:21:31</td>\n",
       "      <td>Hi~欢迎来到真人版小和SZ31908的世界里，我先给您点【10086个赞】请问有什么可以帮...</td>\n",
       "    </tr>\n",
       "    <tr>\n",
       "      <th>17</th>\n",
       "      <td>13410000422T16082318212113APP</td>\n",
       "      <td>121</td>\n",
       "      <td>10000000422</td>\n",
       "      <td>23AUG16:18:22:03</td>\n",
       "      <td>查询我现在的套餐</td>\n",
       "      <td>SZ31908</td>\n",
       "      <td>31DEC99:00:00:00</td>\n",
       "      <td>-1</td>\n",
       "    </tr>\n",
       "    <tr>\n",
       "      <th>18</th>\n",
       "      <td>13410000422T16082318212113APP</td>\n",
       "      <td>122</td>\n",
       "      <td>10000000422</td>\n",
       "      <td>31DEC99:00:00:00</td>\n",
       "      <td>-1</td>\n",
       "      <td>SZ31908</td>\n",
       "      <td>23AUG16:18:22:44</td>\n",
       "      <td>亲，您改了38元4G飞享套餐，9-13号生效哦</td>\n",
       "    </tr>\n",
       "    <tr>\n",
       "      <th>19</th>\n",
       "      <td>13410000422T16082318212113APP</td>\n",
       "      <td>123</td>\n",
       "      <td>10000000422</td>\n",
       "      <td>31DEC99:00:00:00</td>\n",
       "      <td>-1</td>\n",
       "      <td>SZ31908</td>\n",
       "      <td>23AUG16:18:24:04</td>\n",
       "      <td>亲，还在线吗，还有其他可以帮到您吗？</td>\n",
       "    </tr>\n",
       "  </tbody>\n",
       "</table>\n",
       "</div>"
      ],
      "text/plain": [
       "                        sessionid   id  acceptnumber       requesttime  \\\n",
       "10  13410000258T16081911402229APP   73   10000000258  31DEC99:00:00:00   \n",
       "11  13410000258T16081911402229APP   74   10000000258  31DEC99:00:00:00   \n",
       "12  13410000258T16081911402229APP   75   10000000258  19AUG16:11:46:43   \n",
       "13  13410000258T16081911402229APP   76   10000000258  31DEC99:00:00:00   \n",
       "14  13410000422T16082318212113APP  118   10000000422  23AUG16:18:21:25   \n",
       "15  13410000422T16082318212113APP  119   10000000422  23AUG16:18:21:26   \n",
       "16  13410000422T16082318212113APP  120   10000000422  31DEC99:00:00:00   \n",
       "17  13410000422T16082318212113APP  121   10000000422  23AUG16:18:22:03   \n",
       "18  13410000422T16082318212113APP  122   10000000422  31DEC99:00:00:00   \n",
       "19  13410000422T16082318212113APP  123   10000000422  31DEC99:00:00:00   \n",
       "\n",
       "     request serviceid      responsetime  \\\n",
       "10        -1   SZ31537  19AUG16:11:46:07   \n",
       "11        -1   SZ31537  19AUG16:11:46:17   \n",
       "12     可以了谢谢   SZ31537  31DEC99:00:00:00   \n",
       "13        -1   SZ31537  19AUG16:11:46:51   \n",
       "14        人工   SZ31908  31DEC99:00:00:00   \n",
       "15     Hello   SZ31908  31DEC99:00:00:00   \n",
       "16        -1   SZ31908  23AUG16:18:21:31   \n",
       "17  查询我现在的套餐   SZ31908  31DEC99:00:00:00   \n",
       "18        -1   SZ31908  23AUG16:18:22:44   \n",
       "19        -1   SZ31908  23AUG16:18:24:04   \n",
       "\n",
       "                                             response  \n",
       "10                                                 好的  \n",
       "11  如果没有其他业务，小和先退下了，收到10086046短信后请回复数字1，赏赐小和本人1008...  \n",
       "12                                                 -1  \n",
       "13                                                不客气  \n",
       "14                                                 -1  \n",
       "15                                                 -1  \n",
       "16  Hi~欢迎来到真人版小和SZ31908的世界里，我先给您点【10086个赞】请问有什么可以帮...  \n",
       "17                                                 -1  \n",
       "18                            亲，您改了38元4G飞享套餐，9-13号生效哦  \n",
       "19                                 亲，还在线吗，还有其他可以帮到您吗？  "
      ]
     },
     "execution_count": 11,
     "metadata": {},
     "output_type": "execute_result"
    }
   ],
   "source": [
    "print(df.columns)\n",
    "df.columns = ['sessionid','id','acceptnumber','requesttime','request','serviceid','responsetime','response']\n",
    "df.iloc[10:20]"
   ]
  },
  {
   "cell_type": "code",
   "execution_count": 4,
   "metadata": {
    "nbpresent": {
     "id": "0895c02d-3332-442b-a59d-4779651256e0"
    }
   },
   "outputs": [
    {
     "data": {
      "text/plain": [
       "会话ID     0\n",
       "记录流水号    0\n",
       "受理号码     0\n",
       "请求时间     0\n",
       "请求内容     1\n",
       "回复工号     1\n",
       "回复时间     1\n",
       "回复内容     1\n",
       "dtype: int64"
      ]
     },
     "execution_count": 4,
     "metadata": {},
     "output_type": "execute_result"
    }
   ],
   "source": [
    "df.shape[0]-df.count()"
   ]
  },
  {
   "cell_type": "code",
   "execution_count": 47,
   "metadata": {
    "collapsed": true
   },
   "outputs": [],
   "source": [
    "df = df.dropna(how='any')"
   ]
  },
  {
   "cell_type": "markdown",
   "metadata": {},
   "source": [
    "### sessionid,request,response unique distribution:"
   ]
  },
  {
   "cell_type": "code",
   "execution_count": 48,
   "metadata": {},
   "outputs": [
    {
     "data": {
      "text/plain": [
       "((4055,), (18062,), (26143,), (70805, 8))"
      ]
     },
     "execution_count": 48,
     "metadata": {},
     "output_type": "execute_result"
    }
   ],
   "source": [
    "df.sessionid.unique().shape,df.request.unique().shape,df.response.unique().shape,df.shape"
   ]
  },
  {
   "cell_type": "markdown",
   "metadata": {},
   "source": [
    "### **average talk-times per session**:"
   ]
  },
  {
   "cell_type": "code",
   "execution_count": 51,
   "metadata": {},
   "outputs": [
    {
     "data": {
      "text/plain": [
       "17.461159062885326"
      ]
     },
     "execution_count": 51,
     "metadata": {},
     "output_type": "execute_result"
    }
   ],
   "source": [
    "df.groupby('sessionid').count().id.mean()"
   ]
  },
  {
   "cell_type": "code",
   "execution_count": 26,
   "metadata": {
    "scrolled": true
   },
   "outputs": [
    {
     "data": {
      "text/plain": [
       "<matplotlib.axes._subplots.AxesSubplot at 0x11349ab70>"
      ]
     },
     "execution_count": 26,
     "metadata": {},
     "output_type": "execute_result"
    },
    {
     "data": {
      "image/png": "[encoded data removed]",
      "text/plain": [
       "<matplotlib.figure.Figure at 0x112ab7748>"
      ]
     },
     "metadata": {},
     "output_type": "display_data"
    }
   ],
   "source": [
    "df.groupby('sessionid').count()['id'].plot()"
   ]
  },
  {
   "cell_type": "code",
   "execution_count": 28,
   "metadata": {},
   "outputs": [
    {
     "data": {
      "text/plain": [
       "<matplotlib.axes._subplots.AxesSubplot at 0x111d4abe0>"
      ]
     },
     "execution_count": 28,
     "metadata": {},
     "output_type": "execute_result"
    },
    {
     "data": {
      "image/png": "[encoded data removed]",
      "text/plain": [
       "<matplotlib.figure.Figure at 0x1a15562860>"
      ]
     },
     "metadata": {},
     "output_type": "display_data"
    }
   ],
   "source": [
    "sns.distplot(df.groupby('sessionid').count().id)"
   ]
  },
  {
   "cell_type": "markdown",
   "metadata": {},
   "source": [
    "### Top same sentences"
   ]
  },
  {
   "cell_type": "code",
   "execution_count": 52,
   "metadata": {
    "scrolled": true
   },
   "outputs": [
    {
     "data": {
      "text/plain": [
       "response\n",
       "-1                                                                                                 31159\n",
       "请稍等                                                                                                  914\n",
       "亲，很难过没收到您的回复，系统在1分钟没收到您的回应会自动离线，稍后【收到10086046短信后请回复1】，赏赐小和本人【10086个赞】，小和吃饭还是喝粥全靠它了，其它都不是满赞喔[担心]      299\n",
       "茫茫人海与你相遇深感荣幸，以后有需要请记得第一时间找在线客服哦！稍后【收到10086046短信后请回复1】，赏赐小和本人【10086个赞】，小和吃饭还是喝粥全靠它了，其它都不是满赞喔[担心]      266\n",
       "亲，您已进入人工服务，可直接输入文字提问，例如：【1】咨询4G优惠【2】查询剩余流量【3】办理4G流量套餐……等等哦                                           200\n",
       "呃...小和有点不明白，请换种问法或关键字（如：查询话费）试试，您也可以输入【人工】进入人工客服咨询！<br/>                                             158\n",
       "[微笑]                                                                                                 148\n",
       "是的                                                                                                   119\n",
       "好的                                                                                                   114\n",
       "小和还有什么可以为您效劳吗？                                                                                       109\n",
       "Name: id, dtype: int64"
      ]
     },
     "execution_count": 52,
     "metadata": {},
     "output_type": "execute_result"
    }
   ],
   "source": [
    "df.groupby('response').count().id.sort_values(ascending=False)[:10]"
   ]
  },
  {
   "cell_type": "markdown",
   "metadata": {},
   "source": [
    "目前的目标：  \n",
    "\n",
    "针对会话中的关键句子的进行意图分析？  \n",
    "1.暂时不考虑上下文的语境？  \n",
    "2.针对会话中的关键句子的进行意图分析 or multi-turn/single-turn QA system  \n",
    "\n",
    "\n",
    "思路1：聚类+分类  \n",
    "response做聚类（优势是回答标准，），从而对request打label：  \n",
    "思路2：两者  \n",
    "response或者request 做LDA （）  \n",
    "思路3：聚类  \n",
    "对request进行聚类，作为label  \n",
    "思路4：  \n",
    "人工打label，找关键句子  \n",
    "思路5：  \n",
    "匹配规则，人工智障  \n",
    "\n",
    "意图label 映射到 action的种类—》转到对应的操作  \n",
    "\n",
    "预计步骤  \n",
    "- 数据清洗:  \n",
    "\t1.在request和response里去除无效句子  \n",
    "\t\t方法：通过高频句子逆序去除？  \n",
    "\t2.核心回话筛选  \n",
    "\t\t方法：？ 探讨一下  \n",
    "\n",
    "\n",
    "- 寻找意图问答  \n",
    "\t将数据整理成，【(关键问题句,业务回答句)…….】  \n",
    "- 对句子进行分词、标注、关键词等操作？  \n",
    "- 选取xx相似算法，对response进行聚类  \n",
    "\t1. 聚类的种类即是 意图的分类、即label  \n",
    "\t2. 如何判断聚类好坏  \n",
    "- RNNmodel， request作为输入，response作为输出  \n",
    "\n",
    "问题  \n",
    "- 最终达到的效果  \n",
    " 是否要做到QA这一步，多伦对话  \n",
    " user intension 以业务分还是以 using pattern 分 是不是要结合小i机器人的具体需求  \n",
    "- 去除无效句子的方法  \n",
    "- 相似算法、聚类算法的而选择建议是什么？  \n",
    "- \n",
    "问题  \n",
    "1. 如何处理问答形式  \n",
    "2. 如何提取有价值的信息  \n",
    "3. 哪个方法好  \n",
    "4. 最近的三个response作为一个句子  "
   ]
  },
  {
   "cell_type": "markdown",
   "metadata": {},
   "source": [
    "步骤：\n",
    "\n",
    "* 用户意图定义\n",
    "    * 用户意图层级\n",
    "        * 缴费－网络缴费／话费缴费\n",
    "    * 拿到［数据清洗输出］后打标签，衡量聚类效果\n",
    "* 数据清洗\n",
    "    * 删除垃圾信息，去掉重复语句\n",
    "    * 输出：\n",
    "        * column 0: conversation ID\n",
    "        * column 1：用户问题／关键句\n",
    "        * column 2:  对应客服回答（先问后答）\n",
    "        * column 3: Label （Null）\n",
    "* 聚类算法\n",
    "    * 搭建模型框架 \n",
    "        * word segmentation -> word vector -> sentence vector -> clustering (K-means/LDA/...)\n",
    "    * 拿到［数据清洗输出］后，可以直接使用\n",
    "    * Evaluation: Ground truth  \n",
    "* 建模\n",
    "    * 双向RNN＋attention \n",
    "        * 字向量／词向量\n",
    "        * 输出 label\n",
    "    * …..\n",
    "    * Ensemble"
   ]
  }
 ],
 "metadata": {
  "hide_input": false,
  "kernelspec": {
   "display_name": "Python [conda env:py3]",
   "language": "python",
   "name": "conda-env-py3-py"
  },
  "language_info": {
   "codemirror_mode": {
    "name": "ipython",
    "version": 3
   },
   "file_extension": ".py",
   "mimetype": "text/x-python",
   "name": "python",
   "nbconvert_exporter": "python",
   "pygments_lexer": "ipython3",
   "version": "3.6.4"
  },
  "varInspector": {
   "cols": {
    "lenName": 16,
    "lenType": 16,
    "lenVar": 40
   },
   "kernels_config": {
    "python": {
     "delete_cmd_postfix": "",
     "delete_cmd_prefix": "del ",
     "library": "var_list.py",
     "varRefreshCmd": "print(var_dic_list())"
    },
    "r": {
     "delete_cmd_postfix": ") ",
     "delete_cmd_prefix": "rm(",
     "library": "var_list.r",
     "varRefreshCmd": "cat(var_dic_list()) "
    }
   },
   "types_to_exclude": [
    "module",
    "function",
    "builtin_function_or_method",
    "instance",
    "_Feature"
   ],
   "window_display": false
  }
 },
 "nbformat": 4,
 "nbformat_minor": 2
}
